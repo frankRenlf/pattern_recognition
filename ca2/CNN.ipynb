{
 "cells": [
  {
   "cell_type": "code",
   "execution_count": 45,
   "id": "initial_id",
   "metadata": {
    "collapsed": true,
    "ExecuteTime": {
     "end_time": "2023-10-23T09:15:48.539265Z",
     "start_time": "2023-10-23T09:15:48.488519Z"
    }
   },
   "outputs": [],
   "source": [
    "import os\n",
    "import matplotlib.pyplot as plt\n",
    "import torch\n",
    "from torch.utils.data import Dataset, DataLoader, TensorDataset, random_split, RandomSampler\n",
    "import torchvision.transforms as transforms\n",
    "from PIL import Image\n",
    "import numpy as np\n",
    "from pathlib import Path\n",
    "import cv2\n",
    "from tqdm import tqdm\n",
    "from torch import nn\n",
    "import torch.nn.functional as F"
   ]
  },
  {
   "cell_type": "code",
   "execution_count": 46,
   "outputs": [
    {
     "name": "stdout",
     "output_type": "stream",
     "text": [
      "file 38 has 164 number .jpg\n",
      "other files each 170 number .jpg\n",
      "total 11554 number .jpg\n"
     ]
    }
   ],
   "source": [
    "def check_jpg_counts(path):\n",
    "    cnt = 0\n",
    "    for dir_name in os.listdir(path):\n",
    "        dir_path = os.path.join(path, dir_name)\n",
    "        if os.path.isdir(dir_path):\n",
    "            jpg_count = sum(1 for f in os.listdir(dir_path) if f.endswith(\".jpg\"))\n",
    "            if jpg_count != 170:\n",
    "                print(f\"file {dir_name} has {jpg_count} number .jpg\")\n",
    "            cnt += jpg_count\n",
    "    print('other files each 170 number .jpg')\n",
    "    print(f\"total {cnt} number .jpg\")\n",
    "\n",
    "\n",
    "_dataset_dir = \"./data/PIE\"\n",
    "check_jpg_counts(_dataset_dir)"
   ],
   "metadata": {
    "collapsed": false,
    "ExecuteTime": {
     "end_time": "2023-10-23T09:15:48.576830Z",
     "start_time": "2023-10-23T09:15:48.492300Z"
    }
   },
   "id": "8b68a20409b3b5f5"
  },
  {
   "cell_type": "code",
   "execution_count": 47,
   "outputs": [],
   "source": [
    "test_tfm = transforms.Compose([\n",
    "    transforms.Grayscale(num_output_channels=1),  # change own image to 1 channel\n",
    "    transforms.Resize((32, 32)),\n",
    "    transforms.ToTensor(),\n",
    "])\n",
    "\n",
    "\n",
    "class FaceDataset(Dataset):\n",
    "\n",
    "    def __init__(self, path, tfm=test_tfm, files=None):\n",
    "        super(FaceDataset, self).__init__()\n",
    "        self.path = path\n",
    "        self.files = self._get_all_files(path) if files is None else files\n",
    "        if len(self.files) == 0:\n",
    "            raise ValueError(f\"No .jpg files found in {path}\")\n",
    "        print(f\"One {path} sample\", self.files[0])\n",
    "        self.transform = tfm\n",
    "\n",
    "    def _get_all_files(self, path):\n",
    "        \"\"\"Recursively get all jpg files.\"\"\"\n",
    "        file_list = []\n",
    "        for root, dirs, files in os.walk(path):\n",
    "            for file in files:\n",
    "                if file.endswith('.jpg'):\n",
    "                    file_list.append(os.path.join(root, file))\n",
    "        return sorted(file_list)\n",
    "\n",
    "    def __len__(self):\n",
    "        return len(self.files)\n",
    "\n",
    "    def __getitem__(self, idx):\n",
    "        fname = self.files[idx]\n",
    "        im = Image.open(fname)\n",
    "        if self.transform:\n",
    "            im = self.transform(im)\n",
    "        try:\n",
    "            label = int(fname.split(\"/\")[-2])  # adjusted to get the parent directory as label\n",
    "        except:\n",
    "            label = -1  # test has no label\n",
    "        return im, label\n"
   ],
   "metadata": {
    "collapsed": false,
    "ExecuteTime": {
     "end_time": "2023-10-23T09:15:48.577552Z",
     "start_time": "2023-10-23T09:15:48.509259Z"
    }
   },
   "id": "52d637bb7b032ec3"
  },
  {
   "cell_type": "code",
   "execution_count": 48,
   "outputs": [
    {
     "name": "stdout",
     "output_type": "stream",
     "text": [
      "[18 46 32 42  6 15 33 64 23 39  7 54 53 28 58 11  3 17 52  2 67 49 20 66\n",
      " 50]\n"
     ]
    }
   ],
   "source": [
    "# chose 25 folders randomly\n",
    "num_subject = 25\n",
    "seed = 202311172359\n",
    "chosen = np.random.default_rng(seed).choice(np.arange(1, 69), num_subject, replace=False)\n",
    "\n",
    "# Load images \n",
    "images = []\n",
    "labels = []\n",
    "\n",
    "directory = Path(\"../ca2/data/PIE\")\n",
    "for i in range(len(chosen)):\n",
    "    # split train and test\n",
    "    sub_images = []\n",
    "    sub_labels = []\n",
    "    sub_directory = directory / str(chosen[i])\n",
    "\n",
    "    files = list(sub_directory.glob(\"*.jpg\"))\n",
    "    np.random.default_rng(2023).shuffle(files)\n",
    "    for filename in files:\n",
    "        im = Image.open(filename)\n",
    "        sub_images.append(np.array(im))\n",
    "        sub_labels.append(i)  # Use folder numbers as labels\n",
    "    images.append(sub_images)\n",
    "    labels.append(sub_labels)\n",
    "\n",
    "print(chosen)"
   ],
   "metadata": {
    "collapsed": false,
    "ExecuteTime": {
     "end_time": "2023-10-23T09:15:48.844674Z",
     "start_time": "2023-10-23T09:15:48.512803Z"
    }
   },
   "id": "d97fa9e180fa3fc5"
  },
  {
   "cell_type": "code",
   "execution_count": 49,
   "outputs": [
    {
     "data": {
      "text/plain": "<Figure size 2000x1000 with 10 Axes>",
      "image/png": "[encoded data removed]"
     },
     "metadata": {},
     "output_type": "display_data"
    }
   ],
   "source": [
    "# process own photos\n",
    "own_imgs = []\n",
    "own_labels = []\n",
    "\n",
    "for i in range(1, 11):\n",
    "    img = cv2.imread('../ca2/data/own/69/' + str(i) + '.jpg', cv2.IMREAD_GRAYSCALE)  # convert to gray image\n",
    "    img = cv2.resize(img, (32, 32), interpolation=cv2.INTER_CUBIC)\n",
    "    own_imgs.append(img)  # create imgs in desired format\n",
    "    own_labels.append(25)  # label own photos as class 69\n",
    "\n",
    "# split training and testing data sets \n",
    "own_train_imgs = own_imgs[0:7]  # first 7 phots for training\n",
    "own_test_imgs = own_imgs[7:]  # last 3 photos for testing\n",
    "own_train_labels = own_labels[0:7]\n",
    "own_test_labels = own_labels[7:]\n",
    "\n",
    "# visualize photos\n",
    "fig = plt.figure(figsize=(20, 10))\n",
    "\n",
    "for i in range(1, 11):\n",
    "    plt.subplot(1, 10, i)\n",
    "    plt.imshow(own_imgs[i - 1], cmap='gray')\n",
    "    plt.title('own photo' + str(i))\n",
    "    plt.axis('off')\n",
    "\n",
    "plt.show()"
   ],
   "metadata": {
    "collapsed": false,
    "ExecuteTime": {
     "end_time": "2023-10-23T09:15:48.981322Z",
     "start_time": "2023-10-23T09:15:48.812406Z"
    }
   },
   "id": "e934f9cb481c7686"
  },
  {
   "cell_type": "code",
   "execution_count": 50,
   "outputs": [],
   "source": [
    "# Train-test split\n",
    "NUM_TRAIN_IMAGES_PER_SUBJECT = np.int_(np.around(0.7 * 170))\n",
    "\n",
    "images_train, images_test = np.split(np.array(images), [NUM_TRAIN_IMAGES_PER_SUBJECT], axis=1)\n",
    "labels_train, labels_test = np.split(np.array(labels), [NUM_TRAIN_IMAGES_PER_SUBJECT], axis=1)\n",
    "own_images_train, own_images_test = np.split(np.array(own_imgs), [7])\n",
    "own_labels_train, own_labels_test = np.split(np.array(own_labels), [7])\n",
    "\n",
    "import warnings\n",
    "\n",
    "warnings.filterwarnings('ignore', category=Warning)\n",
    "\n",
    "# Flatterning\n",
    "PIE_images_train = images_train.reshape(num_subject * NUM_TRAIN_IMAGES_PER_SUBJECT, 1, 32, 32)\n",
    "own_images_train = own_images_train.reshape(7, 1, 32, 32)\n",
    "images_test = images_test.reshape(num_subject * (170 - NUM_TRAIN_IMAGES_PER_SUBJECT), 1, 32, 32)\n",
    "own_images_test = own_images_test.reshape(3, 1, 32, 32)\n",
    "\n",
    "labels_train = labels_train.reshape(num_subject * NUM_TRAIN_IMAGES_PER_SUBJECT)\n",
    "labels_test = labels_test.reshape(num_subject * (170 - NUM_TRAIN_IMAGES_PER_SUBJECT))\n",
    "\n",
    "# Combine PIE images and own photos to get full train and test sets\n",
    "full_train_set = np.append(PIE_images_train, own_images_train, axis=0, )\n",
    "full_train_labels = np.append(labels_train, own_labels_train)\n",
    "\n",
    "full_test_set = np.append(images_test, own_images_test, axis=0, )\n",
    "full_test_labels = np.append(labels_test, own_labels_test)\n",
    "# print(full_test_labels[1000])"
   ],
   "metadata": {
    "collapsed": false,
    "ExecuteTime": {
     "end_time": "2023-10-23T09:15:48.987930Z",
     "start_time": "2023-10-23T09:15:48.983682Z"
    }
   },
   "id": "64f2093c3ca0bd77"
  },
  {
   "cell_type": "code",
   "execution_count": 51,
   "outputs": [],
   "source": [
    "# Define the model\n",
    "class SimpleCNN(nn.Module):\n",
    "    def __init__(self):\n",
    "        super(SimpleCNN, self).__init__()\n",
    "        self.net = nn.Sequential(\n",
    "            nn.Conv2d(1, 20, 5),\n",
    "            nn.ReLU(),\n",
    "            nn.MaxPool2d(2, 2),\n",
    "            nn.Conv2d(20, 50, 5),\n",
    "            nn.ReLU(),\n",
    "            nn.MaxPool2d(2, 2),\n",
    "            nn.Flatten(),\n",
    "            nn.Linear(50 * 5 * 5, 500),\n",
    "            nn.ReLU(),\n",
    "            nn.Linear(500, 26)\n",
    "        )\n",
    "\n",
    "    def forward(self, x):\n",
    "        return self.net(x)\n",
    "\n",
    "\n",
    "# Convert data to torch tensors and datasets\n",
    "train_set = TensorDataset(torch.Tensor(full_train_set), torch.tensor(full_train_labels).long())\n",
    "test_set = TensorDataset(torch.Tensor(full_test_set), torch.tensor(full_test_labels).long())\n",
    "\n",
    "batch_size = 128\n",
    "train_loader = DataLoader(train_set, shuffle=True, batch_size=batch_size)\n",
    "test_loader = DataLoader(test_set, batch_size=batch_size)\n",
    "model = SimpleCNN()\n",
    "\n",
    "# Optimization\n",
    "optimizer = torch.optim.Adam(model.parameters(), amsgrad=True)\n",
    "criterion = nn.CrossEntropyLoss()\n",
    "\n",
    "\n",
    "# Training loop\n",
    "def train(model, train_loader, optimizer, criterion, num_epochs=20, device=torch.device('cpu')):\n",
    "    for epoch in range(num_epochs):\n",
    "\n",
    "        # ---------- Training ----------\n",
    "        # Make sure the model is in train mode before training.\n",
    "        model.train()\n",
    "\n",
    "        # These are used to record information in training.\n",
    "        train_loss = []\n",
    "        train_accs = []\n",
    "\n",
    "        for batch in tqdm(train_loader):\n",
    "            #     # Gradients stored in the parameters in the previous step should be cleared out first.\n",
    "            optimizer.zero_grad()\n",
    "            # A batch consists of image data and corresponding labels.\n",
    "            imgs, labels = batch\n",
    "            # imgs = imgs.half()\n",
    "            # print(imgs.shape,labels.shape)\n",
    "\n",
    "            # Forward the data. (Make sure data and model are on the same device.)\n",
    "            imgs, labels = imgs.to(device), labels.to(device)\n",
    "            logits = model(imgs)\n",
    "\n",
    "            # Calculate the cross-entropy loss.\n",
    "            # We don't need to apply softmax before computing cross-entropy as it is done automatically.\n",
    "            loss = criterion(logits, labels)\n",
    "\n",
    "            # Compute the gradients for parameters.\n",
    "            loss.backward()\n",
    "\n",
    "            # Clip the gradient norms for stable training.\n",
    "            grad_norm = nn.utils.clip_grad_norm_(model.parameters(), max_norm=10)\n",
    "\n",
    "            # Update the parameters with computed gradients.\n",
    "            optimizer.step()\n",
    "\n",
    "            # Compute the accuracy for current batch.\n",
    "            acc = (logits.argmax(dim=-1) == labels.to(device)).float().mean()\n",
    "\n",
    "            # Record the loss and accuracy.\n",
    "            train_loss.append(loss.item())\n",
    "            train_accs.append(acc)\n",
    "\n",
    "        train_loss = sum(train_loss) / len(train_loss)\n",
    "        train_acc = sum(train_accs) / len(train_accs)\n",
    "\n",
    "        # Print the information.\n",
    "        print(f\"[ Train | {epoch + 1:03d}/{num_epochs:03d} ] loss = {train_loss:.5f}, acc = {train_acc:.5f}\")\n",
    "\n",
    "        # ---------- Validation ----------\n",
    "        # Make sure the model is in eval mode so that some modules like dropout are disabled and work normally.\n",
    "        model.eval()\n",
    "\n",
    "        # These are used to record information in validation.\n",
    "        valid_loss = []\n",
    "        valid_accs = []\n",
    "\n",
    "        # Iterate the validation set by batches.\n",
    "        for batch in tqdm(test_loader):\n",
    "            # A batch consists of image data and corresponding labels.\n",
    "            imgs, labels = batch\n",
    "            #imgs = imgs.half()\n",
    "\n",
    "            # We don't need gradient in validation.\n",
    "            # Using torch.no_grad() accelerates the forward process.\n",
    "            with torch.no_grad():\n",
    "                logits = model(imgs.to(device))\n",
    "\n",
    "            # We can still compute the loss (but not the gradient).\n",
    "            loss = criterion(logits, labels.to(device))\n",
    "\n",
    "            # Compute the accuracy for current batch.\n",
    "            acc = (logits.argmax(dim=-1) == labels.to(device)).float().mean()\n",
    "\n",
    "            # Record the loss and accuracy.\n",
    "            valid_loss.append(loss.item())\n",
    "            valid_accs.append(acc)\n",
    "            #break\n",
    "\n",
    "        # The average loss and accuracy for entire validation set is the average of the recorded values.\n",
    "        valid_loss = sum(valid_loss) / len(valid_loss)\n",
    "        valid_acc = sum(valid_accs) / len(valid_accs)\n",
    "\n",
    "        # Print the information.\n",
    "        print(f\"[ Valid | {epoch + 1:03d}/{num_epochs:03d} ] loss = {valid_loss:.5f}, acc = {valid_acc:.5f}\")\n"
   ],
   "metadata": {
    "collapsed": false,
    "ExecuteTime": {
     "end_time": "2023-10-23T09:15:48.998628Z",
     "start_time": "2023-10-23T09:15:48.988211Z"
    }
   },
   "id": "4424b2edc8c35579"
  },
  {
   "cell_type": "code",
   "execution_count": 52,
   "outputs": [
    {
     "name": "stderr",
     "output_type": "stream",
     "text": [
      "100%|██████████| 24/24 [00:01<00:00, 20.75it/s]\n"
     ]
    },
    {
     "name": "stdout",
     "output_type": "stream",
     "text": [
      "[ Train | 001/020 ] loss = 3.98673, acc = 0.15675\n"
     ]
    },
    {
     "name": "stderr",
     "output_type": "stream",
     "text": [
      "100%|██████████| 10/10 [00:00<00:00, 76.88it/s]\n"
     ]
    },
    {
     "name": "stdout",
     "output_type": "stream",
     "text": [
      "[ Valid | 001/020 ] loss = 2.26744, acc = 0.40139\n"
     ]
    },
    {
     "name": "stderr",
     "output_type": "stream",
     "text": [
      "100%|██████████| 24/24 [00:01<00:00, 21.10it/s]\n"
     ]
    },
    {
     "name": "stdout",
     "output_type": "stream",
     "text": [
      "[ Train | 002/020 ] loss = 1.39936, acc = 0.60329\n"
     ]
    },
    {
     "name": "stderr",
     "output_type": "stream",
     "text": [
      "100%|██████████| 10/10 [00:00<00:00, 82.64it/s]\n"
     ]
    },
    {
     "name": "stdout",
     "output_type": "stream",
     "text": [
      "[ Valid | 002/020 ] loss = 0.65098, acc = 0.82471\n"
     ]
    },
    {
     "name": "stderr",
     "output_type": "stream",
     "text": [
      "100%|██████████| 24/24 [00:01<00:00, 21.74it/s]\n"
     ]
    },
    {
     "name": "stdout",
     "output_type": "stream",
     "text": [
      "[ Train | 003/020 ] loss = 0.45212, acc = 0.86499\n"
     ]
    },
    {
     "name": "stderr",
     "output_type": "stream",
     "text": [
      "100%|██████████| 10/10 [00:00<00:00, 82.51it/s]\n"
     ]
    },
    {
     "name": "stdout",
     "output_type": "stream",
     "text": [
      "[ Valid | 003/020 ] loss = 0.35004, acc = 0.89663\n"
     ]
    },
    {
     "name": "stderr",
     "output_type": "stream",
     "text": [
      "100%|██████████| 24/24 [00:01<00:00, 21.89it/s]\n"
     ]
    },
    {
     "name": "stdout",
     "output_type": "stream",
     "text": [
      "[ Train | 004/020 ] loss = 0.27562, acc = 0.91769\n"
     ]
    },
    {
     "name": "stderr",
     "output_type": "stream",
     "text": [
      "100%|██████████| 10/10 [00:00<00:00, 84.77it/s]\n"
     ]
    },
    {
     "name": "stdout",
     "output_type": "stream",
     "text": [
      "[ Valid | 004/020 ] loss = 0.24604, acc = 0.93027\n"
     ]
    },
    {
     "name": "stderr",
     "output_type": "stream",
     "text": [
      "100%|██████████| 24/24 [00:01<00:00, 21.64it/s]\n"
     ]
    },
    {
     "name": "stdout",
     "output_type": "stream",
     "text": [
      "[ Train | 005/020 ] loss = 0.12789, acc = 0.96082\n"
     ]
    },
    {
     "name": "stderr",
     "output_type": "stream",
     "text": [
      "100%|██████████| 10/10 [00:00<00:00, 79.90it/s]\n"
     ]
    },
    {
     "name": "stdout",
     "output_type": "stream",
     "text": [
      "[ Valid | 005/020 ] loss = 0.17939, acc = 0.94831\n"
     ]
    },
    {
     "name": "stderr",
     "output_type": "stream",
     "text": [
      "100%|██████████| 24/24 [00:01<00:00, 21.57it/s]\n"
     ]
    },
    {
     "name": "stdout",
     "output_type": "stream",
     "text": [
      "[ Train | 006/020 ] loss = 0.08140, acc = 0.97579\n"
     ]
    },
    {
     "name": "stderr",
     "output_type": "stream",
     "text": [
      "100%|██████████| 10/10 [00:00<00:00, 77.27it/s]\n"
     ]
    },
    {
     "name": "stdout",
     "output_type": "stream",
     "text": [
      "[ Valid | 006/020 ] loss = 0.16028, acc = 0.95538\n"
     ]
    },
    {
     "name": "stderr",
     "output_type": "stream",
     "text": [
      "100%|██████████| 24/24 [00:01<00:00, 20.70it/s]\n"
     ]
    },
    {
     "name": "stdout",
     "output_type": "stream",
     "text": [
      "[ Train | 007/020 ] loss = 0.10892, acc = 0.96440\n"
     ]
    },
    {
     "name": "stderr",
     "output_type": "stream",
     "text": [
      "100%|██████████| 10/10 [00:00<00:00, 78.35it/s]\n"
     ]
    },
    {
     "name": "stdout",
     "output_type": "stream",
     "text": [
      "[ Valid | 007/020 ] loss = 0.17797, acc = 0.94131\n"
     ]
    },
    {
     "name": "stderr",
     "output_type": "stream",
     "text": [
      "100%|██████████| 24/24 [00:01<00:00, 21.41it/s]\n"
     ]
    },
    {
     "name": "stdout",
     "output_type": "stream",
     "text": [
      "[ Train | 008/020 ] loss = 0.08251, acc = 0.97807\n"
     ]
    },
    {
     "name": "stderr",
     "output_type": "stream",
     "text": [
      "100%|██████████| 10/10 [00:00<00:00, 82.69it/s]\n"
     ]
    },
    {
     "name": "stdout",
     "output_type": "stream",
     "text": [
      "[ Valid | 008/020 ] loss = 0.11354, acc = 0.96870\n"
     ]
    },
    {
     "name": "stderr",
     "output_type": "stream",
     "text": [
      "100%|██████████| 24/24 [00:01<00:00, 21.45it/s]\n"
     ]
    },
    {
     "name": "stdout",
     "output_type": "stream",
     "text": [
      "[ Train | 009/020 ] loss = 0.05265, acc = 0.98446\n"
     ]
    },
    {
     "name": "stderr",
     "output_type": "stream",
     "text": [
      "100%|██████████| 10/10 [00:00<00:00, 80.31it/s]\n"
     ]
    },
    {
     "name": "stdout",
     "output_type": "stream",
     "text": [
      "[ Valid | 009/020 ] loss = 0.15729, acc = 0.95848\n"
     ]
    },
    {
     "name": "stderr",
     "output_type": "stream",
     "text": [
      "100%|██████████| 24/24 [00:01<00:00, 21.38it/s]\n"
     ]
    },
    {
     "name": "stdout",
     "output_type": "stream",
     "text": [
      "[ Train | 010/020 ] loss = 0.04361, acc = 0.98730\n"
     ]
    },
    {
     "name": "stderr",
     "output_type": "stream",
     "text": [
      "100%|██████████| 10/10 [00:00<00:00, 79.83it/s]\n"
     ]
    },
    {
     "name": "stdout",
     "output_type": "stream",
     "text": [
      "[ Valid | 010/020 ] loss = 0.15779, acc = 0.96079\n"
     ]
    },
    {
     "name": "stderr",
     "output_type": "stream",
     "text": [
      "100%|██████████| 24/24 [00:01<00:00, 21.36it/s]\n"
     ]
    },
    {
     "name": "stdout",
     "output_type": "stream",
     "text": [
      "[ Train | 011/020 ] loss = 0.04003, acc = 0.99044\n"
     ]
    },
    {
     "name": "stderr",
     "output_type": "stream",
     "text": [
      "100%|██████████| 10/10 [00:00<00:00, 80.85it/s]\n"
     ]
    },
    {
     "name": "stdout",
     "output_type": "stream",
     "text": [
      "[ Valid | 011/020 ] loss = 0.14455, acc = 0.95465\n"
     ]
    },
    {
     "name": "stderr",
     "output_type": "stream",
     "text": [
      "100%|██████████| 24/24 [00:01<00:00, 21.70it/s]\n"
     ]
    },
    {
     "name": "stdout",
     "output_type": "stream",
     "text": [
      "[ Train | 012/020 ] loss = 0.03104, acc = 0.99154\n"
     ]
    },
    {
     "name": "stderr",
     "output_type": "stream",
     "text": [
      "100%|██████████| 10/10 [00:00<00:00, 82.40it/s]\n"
     ]
    },
    {
     "name": "stdout",
     "output_type": "stream",
     "text": [
      "[ Valid | 012/020 ] loss = 0.11285, acc = 0.96942\n"
     ]
    },
    {
     "name": "stderr",
     "output_type": "stream",
     "text": [
      "100%|██████████| 24/24 [00:01<00:00, 21.09it/s]\n"
     ]
    },
    {
     "name": "stdout",
     "output_type": "stream",
     "text": [
      "[ Train | 013/020 ] loss = 0.00849, acc = 0.99870\n"
     ]
    },
    {
     "name": "stderr",
     "output_type": "stream",
     "text": [
      "100%|██████████| 10/10 [00:00<00:00, 79.11it/s]\n"
     ]
    },
    {
     "name": "stdout",
     "output_type": "stream",
     "text": [
      "[ Valid | 013/020 ] loss = 0.09132, acc = 0.97572\n"
     ]
    },
    {
     "name": "stderr",
     "output_type": "stream",
     "text": [
      "100%|██████████| 24/24 [00:01<00:00, 21.46it/s]\n"
     ]
    },
    {
     "name": "stdout",
     "output_type": "stream",
     "text": [
      "[ Train | 014/020 ] loss = 0.00389, acc = 0.99935\n"
     ]
    },
    {
     "name": "stderr",
     "output_type": "stream",
     "text": [
      "100%|██████████| 10/10 [00:00<00:00, 80.67it/s]\n"
     ]
    },
    {
     "name": "stdout",
     "output_type": "stream",
     "text": [
      "[ Valid | 014/020 ] loss = 0.09849, acc = 0.97887\n"
     ]
    },
    {
     "name": "stderr",
     "output_type": "stream",
     "text": [
      "100%|██████████| 24/24 [00:01<00:00, 21.61it/s]\n"
     ]
    },
    {
     "name": "stdout",
     "output_type": "stream",
     "text": [
      "[ Train | 015/020 ] loss = 0.00134, acc = 1.00000\n"
     ]
    },
    {
     "name": "stderr",
     "output_type": "stream",
     "text": [
      "100%|██████████| 10/10 [00:00<00:00, 78.48it/s]\n"
     ]
    },
    {
     "name": "stdout",
     "output_type": "stream",
     "text": [
      "[ Valid | 015/020 ] loss = 0.09983, acc = 0.97651\n"
     ]
    },
    {
     "name": "stderr",
     "output_type": "stream",
     "text": [
      "100%|██████████| 24/24 [00:01<00:00, 21.06it/s]\n"
     ]
    },
    {
     "name": "stdout",
     "output_type": "stream",
     "text": [
      "[ Train | 016/020 ] loss = 0.00069, acc = 1.00000\n"
     ]
    },
    {
     "name": "stderr",
     "output_type": "stream",
     "text": [
      "100%|██████████| 10/10 [00:00<00:00, 79.65it/s]\n"
     ]
    },
    {
     "name": "stdout",
     "output_type": "stream",
     "text": [
      "[ Valid | 016/020 ] loss = 0.09401, acc = 0.97574\n"
     ]
    },
    {
     "name": "stderr",
     "output_type": "stream",
     "text": [
      "100%|██████████| 24/24 [00:01<00:00, 21.38it/s]\n"
     ]
    },
    {
     "name": "stdout",
     "output_type": "stream",
     "text": [
      "[ Train | 017/020 ] loss = 0.00053, acc = 1.00000\n"
     ]
    },
    {
     "name": "stderr",
     "output_type": "stream",
     "text": [
      "100%|██████████| 10/10 [00:00<00:00, 80.38it/s]\n"
     ]
    },
    {
     "name": "stdout",
     "output_type": "stream",
     "text": [
      "[ Valid | 017/020 ] loss = 0.09411, acc = 0.97809\n"
     ]
    },
    {
     "name": "stderr",
     "output_type": "stream",
     "text": [
      "100%|██████████| 24/24 [00:01<00:00, 21.60it/s]\n"
     ]
    },
    {
     "name": "stdout",
     "output_type": "stream",
     "text": [
      "[ Train | 018/020 ] loss = 0.00045, acc = 1.00000\n"
     ]
    },
    {
     "name": "stderr",
     "output_type": "stream",
     "text": [
      "100%|██████████| 10/10 [00:00<00:00, 82.27it/s]\n"
     ]
    },
    {
     "name": "stdout",
     "output_type": "stream",
     "text": [
      "[ Valid | 018/020 ] loss = 0.09497, acc = 0.97809\n"
     ]
    },
    {
     "name": "stderr",
     "output_type": "stream",
     "text": [
      "100%|██████████| 24/24 [00:01<00:00, 21.16it/s]\n"
     ]
    },
    {
     "name": "stdout",
     "output_type": "stream",
     "text": [
      "[ Train | 019/020 ] loss = 0.00040, acc = 1.00000\n"
     ]
    },
    {
     "name": "stderr",
     "output_type": "stream",
     "text": [
      "100%|██████████| 10/10 [00:00<00:00, 77.47it/s]\n"
     ]
    },
    {
     "name": "stdout",
     "output_type": "stream",
     "text": [
      "[ Valid | 019/020 ] loss = 0.09489, acc = 0.97887\n"
     ]
    },
    {
     "name": "stderr",
     "output_type": "stream",
     "text": [
      "100%|██████████| 24/24 [00:01<00:00, 21.60it/s]\n"
     ]
    },
    {
     "name": "stdout",
     "output_type": "stream",
     "text": [
      "[ Train | 020/020 ] loss = 0.00037, acc = 1.00000\n"
     ]
    },
    {
     "name": "stderr",
     "output_type": "stream",
     "text": [
      "100%|██████████| 10/10 [00:00<00:00, 79.19it/s]"
     ]
    },
    {
     "name": "stdout",
     "output_type": "stream",
     "text": [
      "[ Valid | 020/020 ] loss = 0.09608, acc = 0.97887\n"
     ]
    },
    {
     "name": "stderr",
     "output_type": "stream",
     "text": [
      "\n"
     ]
    }
   ],
   "source": [
    "# if you have cuda or mac mps, youcan change device\n",
    "device = torch.device('cuda' if torch.cuda.is_available() else 'cpu')\n",
    "train(model, train_loader, optimizer, criterion)"
   ],
   "metadata": {
    "collapsed": false,
    "ExecuteTime": {
     "end_time": "2023-10-23T09:16:13.996010Z",
     "start_time": "2023-10-23T09:15:48.999644Z"
    }
   },
   "id": "2e02a278ce3230ee"
  },
  {
   "cell_type": "markdown",
   "source": [
    "# it also contains test part, in each epoch, it will run test part with no_grad(), therefore it will not affect the gradient.\n",
    "# And the model in valid dataset has 0.97887 accuracy at last."
   ],
   "metadata": {
    "collapsed": false
   },
   "id": "a86ec3df9dc3a2c9"
  },
  {
   "cell_type": "code",
   "execution_count": 52,
   "outputs": [],
   "source": [],
   "metadata": {
    "collapsed": false,
    "ExecuteTime": {
     "end_time": "2023-10-23T09:16:13.997566Z",
     "start_time": "2023-10-23T09:16:13.995796Z"
    }
   },
   "id": "7f978618135ff14"
  }
 ],
 "metadata": {
  "kernelspec": {
   "display_name": "Python 3",
   "language": "python",
   "name": "python3"
  },
  "language_info": {
   "codemirror_mode": {
    "name": "ipython",
    "version": 2
   },
   "file_extension": ".py",
   "mimetype": "text/x-python",
   "name": "python",
   "nbconvert_exporter": "python",
   "pygments_lexer": "ipython2",
   "version": "2.7.6"
  }
 },
 "nbformat": 4,
 "nbformat_minor": 5
}
