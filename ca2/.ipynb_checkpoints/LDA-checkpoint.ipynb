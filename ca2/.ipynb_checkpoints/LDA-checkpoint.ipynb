{
 "cells": [
  {
   "cell_type": "code",
   "execution_count": 1,
   "id": "initial_id",
   "metadata": {
    "ExecuteTime": {
     "end_time": "2023-11-11T08:11:59.622945Z",
     "start_time": "2023-11-11T08:11:54.857605Z"
    },
    "collapsed": true
   },
   "outputs": [],
   "source": [
    "import os\n",
    "from pathlib import Path\n",
    "import matplotlib.pyplot as plt\n",
    "import torch\n",
    "import cv2 as cv\n",
    "from torch.utils.data import Dataset, DataLoader, random_split, RandomSampler\n",
    "import torchvision.transforms as transforms\n",
    "from PIL import Image\n",
    "import numpy as np"
   ]
  },
  {
   "cell_type": "code",
   "execution_count": 2,
   "id": "28d27cc0ae9a2afd",
   "metadata": {
    "ExecuteTime": {
     "end_time": "2023-11-11T08:11:59.623056Z",
     "start_time": "2023-11-11T08:11:59.577037Z"
    }
   },
   "outputs": [
    {
     "name": "stdout",
     "output_type": "stream",
     "text": [
      "file 38 has 164 number .jpg\n",
      "other files each 170 number .jpg\n",
      "total 11554 number .jpg\n"
     ]
    }
   ],
   "source": [
    "def check_jpg_counts(path):\n",
    "    cnt = 0\n",
    "    for dir_name in os.listdir(path):\n",
    "        dir_path = os.path.join(path, dir_name)\n",
    "        if os.path.isdir(dir_path):\n",
    "            jpg_count = sum(1 for f in os.listdir(dir_path) if f.endswith(\".jpg\"))\n",
    "            if jpg_count != 170:\n",
    "                print(f\"file {dir_name} has {jpg_count} number .jpg\")\n",
    "            cnt += jpg_count\n",
    "    print('other files each 170 number .jpg')\n",
    "    print(f\"total {cnt} number .jpg\")\n",
    "\n",
    "\n",
    "# check the number of .jpg files in each directory\n",
    "_dataset_dir = \"./data/PIE\"\n",
    "check_jpg_counts(_dataset_dir)"
   ]
  },
  {
   "cell_type": "code",
   "execution_count": 3,
   "id": "1023b04e06a06c1a",
   "metadata": {
    "ExecuteTime": {
     "end_time": "2023-11-11T08:11:59.623097Z",
     "start_time": "2023-11-11T08:11:59.590513Z"
    }
   },
   "outputs": [],
   "source": [
    "test_tfm = transforms.Compose([\n",
    "    transforms.Grayscale(num_output_channels=1),  # change own image to 1 channel\n",
    "    transforms.Resize((32, 32)),\n",
    "    transforms.ToTensor(),\n",
    "])\n",
    "\n",
    "\n",
    "class FaceDataset(Dataset):\n",
    "\n",
    "    def __init__(self, path, tfm=test_tfm, files=None):\n",
    "        super(FaceDataset, self).__init__()\n",
    "        self.path = path\n",
    "        self.files = self._get_all_files(path) if files is None else files\n",
    "        if len(self.files) == 0:\n",
    "            raise ValueError(f\"No .jpg files found in {path}\")\n",
    "        print(f\"One {path} sample\", self.files[0])\n",
    "        self.transform = tfm\n",
    "\n",
    "    def _get_all_files(self, path):\n",
    "        \"\"\"Recursively get all jpg files.\"\"\"\n",
    "        file_list = []\n",
    "        for root, dirs, files in os.walk(path):\n",
    "            for file in files:\n",
    "                if file.endswith('.jpg'):\n",
    "                    file_list.append(os.path.join(root, file))\n",
    "        return sorted(file_list)\n",
    "\n",
    "    def __len__(self):\n",
    "        return len(self.files)\n",
    "\n",
    "    def __getitem__(self, idx):\n",
    "        fname = self.files[idx]\n",
    "        im = Image.open(fname)\n",
    "        if self.transform:\n",
    "            im = self.transform(im)\n",
    "        try:\n",
    "            label = int(fname.split(\"/\")[-2])  # adjusted to get the parent directory as label\n",
    "        except:\n",
    "            label = -1  # test has no label\n",
    "        return im, label\n",
    "\n"
   ]
  },
  {
   "cell_type": "code",
   "execution_count": 4,
   "id": "4fd27bc3dcbe95",
   "metadata": {
    "ExecuteTime": {
     "end_time": "2023-11-11T08:12:00.599405Z",
     "start_time": "2023-11-11T08:11:59.604534Z"
    }
   },
   "outputs": [
    {
     "name": "stdout",
     "output_type": "stream",
     "text": [
      "[18 46 32 42  6 15 33 64 23 39  7 54 53 28 58 11  3 17 52  2 67 49 20 66\n",
      " 50]\n"
     ]
    }
   ],
   "source": [
    "seed = 202311172359\n",
    "num_subject = 25\n",
    "subjects_index = np.random.default_rng(seed).choice(np.arange(1, 69), num_subject, replace=False)\n",
    "\n",
    "image_data = []\n",
    "label_data = []\n",
    "\n",
    "directory = Path(\"../ca2/data/PIE\")\n",
    "for i in subjects_index:\n",
    "    images_folder = []\n",
    "    labels_folder = []\n",
    "    sub_file = directory / str(i)\n",
    "\n",
    "    files = list(sub_file.glob(\"*.jpg\"))\n",
    "    np.random.default_rng(seed).shuffle(files)\n",
    "    for filename in files:\n",
    "        image0 = Image.open(filename)\n",
    "        images_folder.append(np.array(image0))\n",
    "        labels_folder.append(i)\n",
    "    image_data.append(images_folder)\n",
    "    label_data.append(labels_folder)\n",
    "\n",
    "print(subjects_index)"
   ]
  },
  {
   "cell_type": "code",
   "execution_count": 5,
   "id": "e74dd150cd5f534f",
   "metadata": {
    "ExecuteTime": {
     "end_time": "2023-11-11T08:12:01.219782Z",
     "start_time": "2023-11-11T08:12:00.641203Z"
    }
   },
   "outputs": [
    {
     "data": {
      "image/png": "[encoded data removed]",
      "text/plain": [
       "<Figure size 2000x1000 with 10 Axes>"
      ]
     },
     "metadata": {},
     "output_type": "display_data"
    }
   ],
   "source": [
    "own_image_data = []\n",
    "own_label_data = []\n",
    "\n",
    "for i in range(1, 10 + 1):\n",
    "    img = cv.imread('../ca2/data/own/69/' + str(i) + '.jpg', cv.IMREAD_GRAYSCALE)\n",
    "    img = cv.resize(img, (32, 32), interpolation=cv.INTER_CUBIC)\n",
    "    own_image_data.append(img)\n",
    "    own_label_data.append(69)\n",
    "\n",
    "# train, test split, rate 7:3\n",
    "own_train_image_data = own_image_data[0:7]\n",
    "own_test_image_data = own_image_data[7:]\n",
    "own_train_label_data = own_label_data[0:7]\n",
    "own_test_label_data = own_label_data[7:]\n",
    "\n",
    "fig = plt.figure(figsize=(20, 10))\n",
    "\n",
    "for i in range(1, 11):\n",
    "    plt.subplot(1, 10, i)\n",
    "    plt.imshow(own_image_data[i - 1], cmap='gray')\n",
    "    plt.title('own photo' + str(i))\n",
    "    plt.axis('off')\n",
    "\n",
    "plt.show()"
   ]
  },
  {
   "cell_type": "code",
   "execution_count": 6,
   "id": "cf1dc3214e510fbc",
   "metadata": {
    "ExecuteTime": {
     "end_time": "2023-11-11T08:12:01.219892Z",
     "start_time": "2023-11-11T08:12:01.179201Z"
    }
   },
   "outputs": [],
   "source": [
    "# Split PIE images into train and test sets\n",
    "train_data_rate = np.int_(np.around(0.7 * 170))\n",
    "\n",
    "image_data_train, image_data_test = np.split(np.array(image_data), [train_data_rate], axis=1)\n",
    "label_data_train, label_data_test = np.split(np.array(label_data), [train_data_rate], axis=1)\n",
    "own_image_data_train, own_image_data_test = np.split(np.array(own_image_data), [7])\n",
    "own_label_data_train, own_label_data_test = np.split(np.array(own_label_data), [7])\n",
    "\n",
    "import warnings\n",
    "# ignore warnings for this part\n",
    "warnings.filterwarnings('ignore', category=Warning)\n",
    "flatten_dim = 32 * 32\n",
    "# Reshape to 2D arrays\n",
    "main_image_data_train = image_data_train.reshape(num_subject * train_data_rate, flatten_dim)\n",
    "own_image_data_train = own_image_data_train.reshape(7, flatten_dim)\n",
    "image_data_test = image_data_test.reshape(num_subject * (170 - train_data_rate), flatten_dim)\n",
    "own_image_data_test = own_image_data_test.reshape(3, flatten_dim)\n",
    "\n",
    "label_data_train = label_data_train.reshape(num_subject * train_data_rate)\n",
    "label_data_test = label_data_test.reshape(num_subject * (170 - train_data_rate))\n",
    "\n",
    "# Combine PIE and own photos\n",
    "full_train_image_set = np.append(main_image_data_train, own_image_data_train, axis=0, )\n",
    "full_train_label_set = np.append(label_data_train, own_label_data_train)\n",
    "\n",
    "full_test_image_set = np.append(image_data_test, own_image_data_test, axis=0, )\n",
    "full_test_label_set = np.append(label_data_test, own_label_data_test)"
   ]
  },
  {
   "cell_type": "code",
   "execution_count": 7,
   "id": "382120a7a7610605",
   "metadata": {
    "ExecuteTime": {
     "end_time": "2023-11-11T08:12:01.219927Z",
     "start_time": "2023-11-11T08:12:01.208626Z"
    }
   },
   "outputs": [],
   "source": [
    "num_samples = 500\n",
    "sample_index = np.random.default_rng(seed).choice(np.arange(len(full_train_image_set)), num_samples, replace=False)\n",
    "# full dataset\n",
    "X_train = full_train_image_set\n",
    "y_train = full_train_label_set\n",
    "x_sample = X_train[sample_index]\n",
    "y_sample = y_train[sample_index]"
   ]
  },
  {
   "cell_type": "code",
   "execution_count": null,
   "id": "68c246011ea195b",
   "metadata": {
    "ExecuteTime": {
     "start_time": "2023-11-11T08:12:01.213807Z"
    },
    "is_executing": true
   },
   "outputs": [],
   "source": [
    "uni_labels = np.unique(y_train)\n",
    "dim1_mean = np.zeros((len(uni_labels), 1024))\n",
    "\n",
    "# within label value\n",
    "within_value = np.zeros((1024, 1024))\n",
    "\n",
    "for i in range(len(uni_labels)):\n",
    "    _label = uni_labels[i]\n",
    "    _labels = X_train[y_train == _label]  # get sample with current label\n",
    "    dim1_mean[i] = np.mean(_labels, axis=0)  # mean of features for current label\n",
    "\n",
    "    sub = np.zeros_like(within_value)\n",
    "    for label_sample in _labels:\n",
    "        sub += np.outer((label_sample - dim1_mean[i]), (label_sample - dim1_mean[i]), )\n",
    "\n",
    "    within_value += sub\n",
    "\n",
    "# between label value\n",
    "norm_mean = np.mean(X_train, axis=0)\n",
    "between_value = np.zeros_like(within_value)\n",
    "\n",
    "for i in range(len(uni_labels)):\n",
    "    _label = uni_labels[i]\n",
    "    num = np.count_nonzero(y_train == _label)  # number of samples with current label\n",
    "    between_value += num * np.outer((dim1_mean[i] - norm_mean), (dim1_mean[i] - norm_mean), )\n",
    "\n",
    "eig_vals, eig_vecs = np.linalg.eig(np.linalg.inv(within_value) @ between_value)\n",
    "\n",
    "order_seq = np.argsort(-eig_vals)\n",
    "eig_vals = eig_vals[order_seq]\n",
    "eig_vecs = eig_vecs[:, order_seq].real\n",
    "\n",
    "# Projection\n",
    "X_lda = X_train @ eig_vecs[:, :9]\n",
    "X_sample_lda = x_sample @ eig_vecs[:, :9]\n",
    "X_lda.shape, X_sample_lda.shape"
   ]
  },
  {
   "cell_type": "code",
   "execution_count": null,
   "id": "39392db2e7be544f",
   "metadata": {
    "is_executing": true
   },
   "outputs": [],
   "source": [
    "fig = plt.figure()\n",
    "ax = fig.add_subplot()\n",
    "\n",
    "for i in np.unique(y_sample[y_sample != 69]):\n",
    "    # print((y_train == i))\n",
    "    ax.scatter(X_sample_lda[y_sample == i][:, 0], X_sample_lda[y_sample == i][:, 1], label=i, )\n",
    "ax.scatter(X_sample_lda[y_sample == 69][:, 0], X_sample_lda[y_sample == 69][:, 1], marker=\"*\", label=69, c=\"k\", s=60)\n",
    "\n",
    "ax.set_xlabel(\"x_1\")\n",
    "ax.set_ylabel(\"x_2\")\n",
    "ax.set_title(\"LDA 2d Projection of the Samples\")\n",
    "\n",
    "lgd = ax.legend(ncol=np.int_(num_subject / 5), bbox_to_anchor=(1, 0.5))\n",
    "\n",
    "plt.show()"
   ]
  },
  {
   "cell_type": "code",
   "execution_count": null,
   "id": "8c2befc80b3a9753",
   "metadata": {
    "is_executing": true
   },
   "outputs": [],
   "source": [
    "fig = plt.figure()\n",
    "ax = fig.add_subplot()\n",
    "\n",
    "for i in np.unique(y_train[y_train != 69]):\n",
    "    # print((y_train == i))\n",
    "    ax.scatter(X_lda[y_train == i][:, 0], X_lda[y_train == i][:, 1], label=i, )\n",
    "ax.scatter(X_lda[y_train == 69][:, 0], X_lda[y_train == 69][:, 1], marker=\"*\", label=69, c=\"k\", s=60)\n",
    "\n",
    "ax.set_xlabel(\"x_1\")\n",
    "ax.set_ylabel(\"x_2\")\n",
    "ax.set_title(\"LDA 2d Projection of the train set\")\n",
    "\n",
    "lgd = ax.legend(ncol=np.int_(num_subject / 5), bbox_to_anchor=(1, 0.5))\n",
    "\n",
    "plt.show()"
   ]
  },
  {
   "cell_type": "code",
   "execution_count": null,
   "id": "2af7a6eef0abcc56",
   "metadata": {
    "is_executing": true
   },
   "outputs": [],
   "source": [
    "# 3D\n",
    "fig = plt.figure()\n",
    "ax = fig.add_subplot(projection=\"3d\")\n",
    "\n",
    "# highlight point of own photos in dark triangle_up marker\n",
    "for i in np.unique(y_sample[y_sample != 69]):\n",
    "    ax.scatter(X_sample_lda[y_sample == i][:, 0], X_sample_lda[y_sample == i][:, 1], X_sample_lda[y_sample == i][:, 2], label=i, )\n",
    "ax.scatter(X_sample_lda[y_sample == 69][:, 0], X_sample_lda[y_sample == 69][:, 1], X_sample_lda[y_sample == 69][:, 2],\n",
    "           marker=\"*\", label=69, c=\"k\", s=60, )\n",
    "ax.set_xlabel(\"X1\")\n",
    "ax.set_ylabel(\"X2\")\n",
    "ax.set_zlabel(\"X3\")\n",
    "ax.set_title(\"LDA 3d Projection of the Samples\")\n",
    "\n",
    "lgd = ax.legend(ncol=np.int_(num_subject / 5), bbox_to_anchor=(1, 0.5))\n",
    "\n",
    "plt.show()"
   ]
  },
  {
   "cell_type": "code",
   "execution_count": null,
   "id": "31eff1cb5a85fbe4",
   "metadata": {
    "is_executing": true
   },
   "outputs": [],
   "source": [
    "# 3D\n",
    "fig = plt.figure()\n",
    "ax = fig.add_subplot(projection=\"3d\")\n",
    "\n",
    "# highlight point of own photos in dark triangle_up marker\n",
    "for i in np.unique(y_train[y_train != 69]):\n",
    "    ax.scatter(X_lda[y_train == i][:, 0], X_lda[y_train == i][:, 1], X_lda[y_train == i][:, 2], label=i, )\n",
    "ax.scatter(X_lda[y_train == 69][:, 0], X_lda[y_train == 69][:, 1], X_lda[y_train == 69][:, 2],\n",
    "           marker=\"*\", label=69, c=\"k\", s=60, )\n",
    "ax.set_xlabel(\"X1\")\n",
    "ax.set_ylabel(\"X2\")\n",
    "ax.set_zlabel(\"X3\")\n",
    "ax.set_title(\"LDA 3d Projection of the train set\")\n",
    "\n",
    "lgd = ax.legend(ncol=np.int_(num_subject / 5), bbox_to_anchor=(1, 0.5))\n",
    "\n",
    "plt.show()"
   ]
  },
  {
   "cell_type": "code",
   "execution_count": null,
   "id": "72dcf58b03413104",
   "metadata": {
    "is_executing": true
   },
   "outputs": [],
   "source": [
    "image_test_data = image_data_test @ eig_vecs[:, :9]\n",
    "own_test_data = own_image_data_test @ eig_vecs[:, :9]\n",
    "\n",
    "\n",
    "def compute_accuracy(X, y):\n",
    "    # knn classification\n",
    "    def knn_classification(dim, X, y):\n",
    "        dat = np.argsort(np.linalg.norm(X[:, :dim][:, np.newaxis] - X_lda[:, :dim], axis=2))\n",
    "        k = 1  # k nearest neighbors\n",
    "        index = dat[:, :k]\n",
    "        nn_labels = y_train[index]\n",
    "        result = nn_labels[:, 0]\n",
    "        acc = np.sum(result == y) / y.size\n",
    "        return acc\n",
    "    # compute accuracy\n",
    "    for i in [2, 3, 9]:\n",
    "        print(\"Accuracy with dim\", i, \"=\", knn_classification(i, X, y), )\n",
    "\n",
    "\n",
    "print(\"For pie:\")\n",
    "compute_accuracy(image_test_data, label_data_test)\n",
    "print(\"For own:\")\n",
    "compute_accuracy(own_test_data, own_label_data_test)"
   ]
  },
  {
   "cell_type": "markdown",
   "id": "c2f9a97056518888",
   "metadata": {},
   "source": [
    "# Not like pca part, this part use full dataset, the model may overfitting."
   ]
  },
  {
   "cell_type": "code",
   "execution_count": null,
   "id": "26bc20fb17c608fc",
   "metadata": {
    "is_executing": true
   },
   "outputs": [],
   "source": []
  }
 ],
 "metadata": {
  "kernelspec": {
   "display_name": "Python 3 (ipykernel)",
   "language": "python",
   "name": "python3"
  },
  "language_info": {
   "codemirror_mode": {
    "name": "ipython",
    "version": 2
   },
   "file_extension": ".py",
   "mimetype": "text/x-python",
   "name": "python",
   "nbconvert_exporter": "python",
   "pygments_lexer": "ipython2",
   "version": "2.7.6"
  }
 },
 "nbformat": 4,
 "nbformat_minor": 5
}
