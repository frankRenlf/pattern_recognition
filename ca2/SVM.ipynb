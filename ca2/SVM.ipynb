{
 "cells": [
  {
   "cell_type": "code",
   "execution_count": 1,
   "id": "initial_id",
   "metadata": {
    "collapsed": true,
    "ExecuteTime": {
     "end_time": "2023-11-10T09:45:01.057343Z",
     "start_time": "2023-11-10T09:44:59.977152Z"
    }
   },
   "outputs": [],
   "source": [
    "import os\n",
    "import matplotlib.pyplot as plt\n",
    "import torch\n",
    "from torch.utils.data import Dataset, DataLoader, random_split, RandomSampler\n",
    "import torchvision.transforms as transforms\n",
    "from PIL import Image\n",
    "import numpy as np\n",
    "from pathlib import Path\n",
    "import cv2 as cv\n",
    "import scipy"
   ]
  },
  {
   "cell_type": "code",
   "execution_count": 2,
   "outputs": [
    {
     "name": "stdout",
     "output_type": "stream",
     "text": [
      "file 38 has 164 number .jpg\n",
      "other files each 170 number .jpg\n",
      "total 11554 number .jpg\n"
     ]
    }
   ],
   "source": [
    "def check_jpg_counts(path):\n",
    "    cnt = 0\n",
    "    for dir_name in os.listdir(path):\n",
    "        dir_path = os.path.join(path, dir_name)\n",
    "        if os.path.isdir(dir_path):\n",
    "            jpg_count = sum(1 for f in os.listdir(dir_path) if f.endswith(\".jpg\"))\n",
    "            if jpg_count != 170:\n",
    "                print(f\"file {dir_name} has {jpg_count} number .jpg\")\n",
    "            cnt += jpg_count\n",
    "    print('other files each 170 number .jpg')\n",
    "    print(f\"total {cnt} number .jpg\")\n",
    "\n",
    "\n",
    "# check the number of .jpg files in each directory\n",
    "_dataset_dir = \"./data/PIE\"\n",
    "check_jpg_counts(_dataset_dir)"
   ],
   "metadata": {
    "collapsed": false,
    "ExecuteTime": {
     "end_time": "2023-11-10T09:45:01.090337Z",
     "start_time": "2023-11-10T09:45:01.058904Z"
    }
   },
   "id": "6c04c39b6d310f10"
  },
  {
   "cell_type": "code",
   "execution_count": 3,
   "outputs": [],
   "source": [
    "test_tfm = transforms.Compose([\n",
    "    transforms.Grayscale(num_output_channels=1),  # change own image to 1 channel\n",
    "    transforms.Resize((32, 32)),\n",
    "    transforms.ToTensor(),\n",
    "])\n",
    "\n",
    "\n",
    "class FaceDataset(Dataset):\n",
    "\n",
    "    def __init__(self, path, tfm=test_tfm, files=None):\n",
    "        super(FaceDataset, self).__init__()\n",
    "        self.path = path\n",
    "        self.files = self._get_all_files(path) if files is None else files\n",
    "        if len(self.files) == 0:\n",
    "            raise ValueError(f\"No .jpg files found in {path}\")\n",
    "        print(f\"One {path} sample\", self.files[0])\n",
    "        self.transform = tfm\n",
    "\n",
    "    def _get_all_files(self, path):\n",
    "        \"\"\"Recursively get all jpg files.\"\"\"\n",
    "        file_list = []\n",
    "        for root, dirs, files in os.walk(path):\n",
    "            for file in files:\n",
    "                if file.endswith('.jpg'):\n",
    "                    file_list.append(os.path.join(root, file))\n",
    "        return sorted(file_list)\n",
    "\n",
    "    def __len__(self):\n",
    "        return len(self.files)\n",
    "\n",
    "    def __getitem__(self, idx):\n",
    "        fname = self.files[idx]\n",
    "        im = Image.open(fname)\n",
    "        if self.transform:\n",
    "            im = self.transform(im)\n",
    "        try:\n",
    "            label = int(fname.split(\"/\")[-2])  # adjusted to get the parent directory as label\n",
    "        except:\n",
    "            label = -1  # test has no label\n",
    "        return im, label"
   ],
   "metadata": {
    "collapsed": false,
    "ExecuteTime": {
     "end_time": "2023-11-10T09:45:01.095097Z",
     "start_time": "2023-11-10T09:45:01.093106Z"
    }
   },
   "id": "5d14250aae4c8c3"
  },
  {
   "cell_type": "code",
   "execution_count": 4,
   "outputs": [
    {
     "name": "stdout",
     "output_type": "stream",
     "text": [
      "[18 46 32 42  6 15 33 64 23 39  7 54 53 28 58 11  3 17 52  2 67 49 20 66\n",
      " 50]\n"
     ]
    }
   ],
   "source": [
    "seed = 202311172359\n",
    "num_subject = 25\n",
    "subjects_index = np.random.default_rng(seed).choice(np.arange(1, 69), num_subject, replace=False)\n",
    "\n",
    "image_data = []\n",
    "label_data = []\n",
    "\n",
    "directory = Path(\"../ca2/data/PIE\")\n",
    "for i in subjects_index:\n",
    "    images_folder = []\n",
    "    labels_folder = []\n",
    "    sub_file = directory / str(i)\n",
    "\n",
    "    files = list(sub_file.glob(\"*.jpg\"))\n",
    "    np.random.default_rng(seed).shuffle(files)\n",
    "    for filename in files:\n",
    "        image0 = Image.open(filename)\n",
    "        images_folder.append(np.array(image0))\n",
    "        labels_folder.append(i)\n",
    "    image_data.append(images_folder)\n",
    "    label_data.append(labels_folder)\n",
    "\n",
    "print(subjects_index)"
   ],
   "metadata": {
    "collapsed": false,
    "ExecuteTime": {
     "end_time": "2023-11-10T09:45:01.373180Z",
     "start_time": "2023-11-10T09:45:01.096275Z"
    }
   },
   "id": "c4614bb79773dd24"
  },
  {
   "cell_type": "code",
   "execution_count": 5,
   "outputs": [
    {
     "data": {
      "text/plain": "<Figure size 2000x1000 with 10 Axes>",
      "image/png": "[encoded data removed]"
     },
     "metadata": {},
     "output_type": "display_data"
    }
   ],
   "source": [
    "own_image_data = []\n",
    "own_label_data = []\n",
    "\n",
    "for i in range(1, 10 + 1):\n",
    "    img = cv.imread('../ca2/data/own/69/' + str(i) + '.jpg', cv.IMREAD_GRAYSCALE)\n",
    "    img = cv.resize(img, (32, 32), interpolation=cv.INTER_CUBIC)\n",
    "    own_image_data.append(img)\n",
    "    own_label_data.append(69)\n",
    "\n",
    "# train, test split, rate 7:3\n",
    "own_train_image_data = own_image_data[0:7]\n",
    "own_test_image_data = own_image_data[7:]\n",
    "own_train_label_data = own_label_data[0:7]\n",
    "own_test_label_data = own_label_data[7:]\n",
    "\n",
    "fig = plt.figure(figsize=(20, 10))\n",
    "\n",
    "for i in range(1, 11):\n",
    "    plt.subplot(1, 10, i)\n",
    "    plt.imshow(own_image_data[i - 1], cmap='gray')\n",
    "    plt.title('own photo' + str(i))\n",
    "    plt.axis('off')\n",
    "\n",
    "plt.show()"
   ],
   "metadata": {
    "collapsed": false,
    "ExecuteTime": {
     "end_time": "2023-11-10T09:45:01.493700Z",
     "start_time": "2023-11-10T09:45:01.375747Z"
    }
   },
   "id": "af46d574a708e34b"
  },
  {
   "cell_type": "code",
   "execution_count": 6,
   "outputs": [],
   "source": [
    "NUM_TRAIN_IMAGES_PER_SUBJECT = np.int_(np.around(0.7 * 170))\n",
    "\n",
    "image_data_train, image_data_test = np.split(np.array(image_data), [NUM_TRAIN_IMAGES_PER_SUBJECT], axis=1)\n",
    "label_data_train, label_data_test = np.split(np.array(label_data), [NUM_TRAIN_IMAGES_PER_SUBJECT], axis=1)\n",
    "own_image_data_train, own_image_data_test = np.split(np.array(own_image_data), [7])\n",
    "own_label_data_train, own_labels_data_test = np.split(np.array(own_label_data), [7])\n",
    "\n",
    "import warnings\n",
    "# ignore warnings for this part\n",
    "warnings.filterwarnings('ignore', category=Warning)\n",
    "\n",
    "# reshape data\n",
    "main_image_data_train = image_data_train.reshape(num_subject * NUM_TRAIN_IMAGES_PER_SUBJECT, 1024)\n",
    "own_image_data_train = own_image_data_train.reshape(7, 1024)\n",
    "image_data_test = image_data_test.reshape(num_subject * (170 - NUM_TRAIN_IMAGES_PER_SUBJECT), 1024)\n",
    "own_image_data_test = own_image_data_test.reshape(3, 1024)\n",
    "\n",
    "label_data_train = label_data_train.reshape(num_subject * NUM_TRAIN_IMAGES_PER_SUBJECT)\n",
    "label_data_test = label_data_test.reshape(num_subject * (170 - NUM_TRAIN_IMAGES_PER_SUBJECT))\n",
    "\n",
    "# Combine PIE images and own photos to get full train and test sets\n",
    "full_train_image_set = np.append(main_image_data_train, own_image_data_train, axis=0, )\n",
    "full_train_label_set = np.append(label_data_train, own_label_data_train)\n",
    "\n",
    "full_test_image_set = np.append(image_data_test, own_image_data_test, axis=0, )\n",
    "full_test_label_set = np.append(label_data_test, own_labels_data_test)"
   ],
   "metadata": {
    "collapsed": false,
    "ExecuteTime": {
     "end_time": "2023-11-10T09:45:01.499294Z",
     "start_time": "2023-11-10T09:45:01.495453Z"
    }
   },
   "id": "30cf75f691b68076"
  },
  {
   "cell_type": "code",
   "execution_count": 7,
   "outputs": [],
   "source": [
    "# full data set\n",
    "X_train = full_train_image_set\n",
    "y_train = full_train_label_set"
   ],
   "metadata": {
    "collapsed": false,
    "ExecuteTime": {
     "end_time": "2023-11-10T09:45:01.504433Z",
     "start_time": "2023-11-10T09:45:01.500239Z"
    }
   },
   "id": "7a44eea494b64929"
  },
  {
   "cell_type": "code",
   "execution_count": 8,
   "outputs": [],
   "source": [
    "X_mean = np.mean(X_train, axis=0)\n",
    "X_norm = X_train - X_mean\n",
    "\n",
    "u, s, vt = np.linalg.svd(X_norm, full_matrices=False)\n",
    "s_diag = np.diag(s)\n",
    "\n",
    "# max components: 200\n",
    "X_pca = u[:, :200] @ s_diag[:200, :200]\n",
    "X_test_mean = np.mean(full_test_image_set, axis=0)\n",
    "X_test_norm = full_test_image_set - X_test_mean\n",
    "# projection for test set\n",
    "projected_X_pca_test = X_test_norm @ vt.T[:, :200]\n",
    "projected_own_X_pca_test = (own_image_data_test - X_mean) @ vt.T[:, :200]"
   ],
   "metadata": {
    "collapsed": false,
    "ExecuteTime": {
     "end_time": "2023-11-10T09:45:02.670036Z",
     "start_time": "2023-11-10T09:45:01.503042Z"
    }
   },
   "id": "b7d1d2bb737800bb"
  },
  {
   "cell_type": "code",
   "execution_count": 9,
   "outputs": [],
   "source": [
    "from libsvm.python.libsvm.svmutil import *\n",
    "from libsvm.python.libsvm.svm import *\n",
    "\n",
    "\n",
    "def svm(X, y, raw):\n",
    "    def svm_c(c, prob, raw):\n",
    "        print(\"For penalty parameter C = \" + str(c) + \":\")\n",
    "        param = svm_parameter(\"-t 0 -c \" + str(c) + \" -q\")\n",
    "        m = svm_train(prob, param)\n",
    "        if raw:\n",
    "            p_label, p_acc, p_val = svm_predict(full_test_label_set, full_test_image_set, m)\n",
    "        else:\n",
    "            p_label, p_acc, p_val = svm_predict(full_test_label_set, projected_X_pca_test, m)\n",
    "        print(\"Accuracy = \" + str(p_acc[0]) + \"%\")\n",
    "\n",
    "    prob = svm_problem(y, X)\n",
    "    # Vary C\n",
    "    svm_c(1e-2, prob, raw)\n",
    "    svm_c(1e-1, prob, raw)\n",
    "    svm_c(1, prob, raw)\n",
    "\n",
    "\n",
    "# create custom function\n",
    "def compute_display_svm(train_data, train_labels, test_data, test_labels, n_pc=3,\n",
    "                        svm_settings='-t 0 -c 1e-2', set_name=\"ALL\"):\n",
    "    # reduce dimensionality of vectorized images to n_pc\n",
    "    # clf = classifier(n_components=n_pc)\n",
    "    # clf.fit(train_data)\n",
    "\n",
    "    # project train and test data into n_pc-d\n",
    "    if n_pc is None:\n",
    "        train_x_clf_nd = train_data\n",
    "        test_x_clf_nd = test_data\n",
    "        own_test = projected_own_X_pca_test[:, :n_pc]\n",
    "    else:\n",
    "        train_x_clf_nd = X_pca[:, :n_pc]\n",
    "        test_x_clf_nd = projected_X_pca_test[:, :n_pc]\n",
    "        own_test = projected_own_X_pca_test[:, :n_pc]\n",
    "    # perform classification\n",
    "    svm_model = svm_train(train_labels, train_x_clf_nd, svm_settings)\n",
    "    test_pred, p_acc, p_val = svm_predict(test_labels, test_x_clf_nd, svm_model)\n",
    "    to, opa, opv = svm_predict(own_labels_data_test, own_test, svm_model)\n",
    "\n",
    "    # calculate accuracy\n",
    "    print('Accuracy of SVM with {}-components for {} test set: {}%'.format(\n",
    "        n_pc, set_name, round(p_acc[0], 3)))\n",
    "    print('Accuracy of SVM with {}-components for own test set: {}%'.format(\n",
    "        n_pc, round(opa[0], 3)))"
   ],
   "metadata": {
    "collapsed": false,
    "ExecuteTime": {
     "end_time": "2023-11-10T09:45:03.251212Z",
     "start_time": "2023-11-10T09:45:02.670259Z"
    }
   },
   "id": "f8802089df933c6e"
  },
  {
   "cell_type": "code",
   "execution_count": 10,
   "outputs": [],
   "source": [
    "def svm_test(svm_setting = '-t 0 -c 1 -q'):\n",
    "    print(f'setting: {svm_setting}')\n",
    "    compute_display_svm(X_train, y_train, full_test_image_set, full_test_label_set, n_pc=None,\n",
    "                        svm_settings=svm_setting)\n",
    "    compute_display_svm(X_train, y_train, full_test_image_set, full_test_label_set, n_pc=80,\n",
    "                        svm_settings=svm_setting)\n",
    "    compute_display_svm(X_train, y_train, full_test_image_set, full_test_label_set, n_pc=200,\n",
    "                        svm_settings=svm_setting)"
   ],
   "metadata": {
    "collapsed": false,
    "ExecuteTime": {
     "end_time": "2023-11-10T09:45:03.256622Z",
     "start_time": "2023-11-10T09:45:03.252383Z"
    }
   },
   "id": "f2444dfd1bb40f4e"
  },
  {
   "cell_type": "code",
   "execution_count": 11,
   "outputs": [],
   "source": [
    "# y = y_train\n",
    "# x = X_train\n",
    "# prob  = svm_problem(y, x)\n",
    "# param = svm_parameter('-t 0 -c 1e-1 -q')\n",
    "# model = svm_train(prob, param)\n",
    "# yt = full_test_label_set\n",
    "# xt = full_test_image_set\n",
    "# p_label, p_acc, p_val = svm_predict(yt, xt, model)\n",
    "# # print(calculate_accuracy(p_label, true_labels))"
   ],
   "metadata": {
    "collapsed": false,
    "ExecuteTime": {
     "end_time": "2023-11-10T09:45:03.256781Z",
     "start_time": "2023-11-10T09:45:03.254259Z"
    }
   },
   "id": "afcea76eae92482"
  },
  {
   "cell_type": "code",
   "execution_count": 12,
   "outputs": [
    {
     "name": "stdout",
     "output_type": "stream",
     "text": [
      "setting: -t 0 -c 1 -q\n",
      "Accuracy = 99.2175% (1268/1278) (classification)\n",
      "Accuracy = 0% (0/3) (classification)\n",
      "Accuracy of SVM with None-components for ALL test set: 99.218%\n",
      "Accuracy of SVM with None-components for own test set: 0.0%\n",
      "Accuracy = 99.1393% (1267/1278) (classification)\n",
      "Accuracy = 100% (3/3) (classification)\n",
      "Accuracy of SVM with 80-components for ALL test set: 99.139%\n",
      "Accuracy of SVM with 80-components for own test set: 100.0%\n",
      "Accuracy = 99.2958% (1269/1278) (classification)\n",
      "Accuracy = 100% (3/3) (classification)\n",
      "Accuracy of SVM with 200-components for ALL test set: 99.296%\n",
      "Accuracy of SVM with 200-components for own test set: 100.0%\n"
     ]
    }
   ],
   "source": [
    "svm_test()"
   ],
   "metadata": {
    "collapsed": false,
    "ExecuteTime": {
     "end_time": "2023-11-10T09:45:11.710280Z",
     "start_time": "2023-11-10T09:45:03.257424Z"
    }
   },
   "id": "d9376b68a38a95be"
  },
  {
   "cell_type": "code",
   "execution_count": 13,
   "outputs": [
    {
     "name": "stdout",
     "output_type": "stream",
     "text": [
      "setting: -t 0 -c 1e-1 -q\n",
      "Accuracy = 99.2175% (1268/1278) (classification)\n",
      "Accuracy = 0% (0/3) (classification)\n",
      "Accuracy of SVM with None-components for ALL test set: 99.218%\n",
      "Accuracy of SVM with None-components for own test set: 0.0%\n",
      "Accuracy = 99.1393% (1267/1278) (classification)\n",
      "Accuracy = 100% (3/3) (classification)\n",
      "Accuracy of SVM with 80-components for ALL test set: 99.139%\n",
      "Accuracy of SVM with 80-components for own test set: 100.0%\n",
      "Accuracy = 99.2958% (1269/1278) (classification)\n",
      "Accuracy = 100% (3/3) (classification)\n",
      "Accuracy of SVM with 200-components for ALL test set: 99.296%\n",
      "Accuracy of SVM with 200-components for own test set: 100.0%\n"
     ]
    }
   ],
   "source": [
    "svm_test('-t 0 -c 1e-1 -q')"
   ],
   "metadata": {
    "collapsed": false,
    "ExecuteTime": {
     "end_time": "2023-11-10T09:45:19.929390Z",
     "start_time": "2023-11-10T09:45:11.710861Z"
    }
   },
   "id": "4d32e1e6ac8e814b"
  },
  {
   "cell_type": "code",
   "execution_count": 14,
   "outputs": [
    {
     "name": "stdout",
     "output_type": "stream",
     "text": [
      "setting: -t 0 -c 1e-2 -q\n",
      "Accuracy = 99.2175% (1268/1278) (classification)\n",
      "Accuracy = 0% (0/3) (classification)\n",
      "Accuracy of SVM with None-components for ALL test set: 99.218%\n",
      "Accuracy of SVM with None-components for own test set: 0.0%\n",
      "Accuracy = 99.1393% (1267/1278) (classification)\n",
      "Accuracy = 100% (3/3) (classification)\n",
      "Accuracy of SVM with 80-components for ALL test set: 99.139%\n",
      "Accuracy of SVM with 80-components for own test set: 100.0%\n",
      "Accuracy = 99.2958% (1269/1278) (classification)\n",
      "Accuracy = 100% (3/3) (classification)\n",
      "Accuracy of SVM with 200-components for ALL test set: 99.296%\n",
      "Accuracy of SVM with 200-components for own test set: 100.0%\n"
     ]
    }
   ],
   "source": [
    "svm_test('-t 0 -c 1e-2 -q')"
   ],
   "metadata": {
    "collapsed": false,
    "ExecuteTime": {
     "end_time": "2023-11-10T09:45:28.185629Z",
     "start_time": "2023-11-10T09:45:19.931582Z"
    }
   },
   "id": "ef7f081d7aaaa9fe"
  },
  {
   "cell_type": "code",
   "execution_count": 15,
   "outputs": [
    {
     "name": "stdout",
     "output_type": "stream",
     "text": [
      "setting: -t 0 -c 1e-8 -q\n",
      "Accuracy = 39.2019% (501/1278) (classification)\n",
      "Accuracy = 0% (0/3) (classification)\n",
      "Accuracy of SVM with None-components for ALL test set: 39.202%\n",
      "Accuracy of SVM with None-components for own test set: 0.0%\n",
      "Accuracy = 35.759% (457/1278) (classification)\n",
      "Accuracy = 0% (0/3) (classification)\n",
      "Accuracy of SVM with 80-components for ALL test set: 35.759%\n",
      "Accuracy of SVM with 80-components for own test set: 0.0%\n",
      "Accuracy = 35.9937% (460/1278) (classification)\n",
      "Accuracy = 0% (0/3) (classification)\n",
      "Accuracy of SVM with 200-components for ALL test set: 35.994%\n",
      "Accuracy of SVM with 200-components for own test set: 0.0%\n"
     ]
    }
   ],
   "source": [
    "svm_test('-t 0 -c 1e-8 -q')"
   ],
   "metadata": {
    "collapsed": false,
    "ExecuteTime": {
     "end_time": "2023-11-10T09:45:53.069526Z",
     "start_time": "2023-11-10T09:45:28.188961Z"
    }
   },
   "id": "ebd988659dcb0450"
  },
  {
   "cell_type": "code",
   "execution_count": 16,
   "outputs": [
    {
     "name": "stdout",
     "output_type": "stream",
     "text": [
      "Use raw face images (vectorized):\n",
      "For penalty parameter C = 0.01:\n",
      "Accuracy = 99.2175% (1268/1278) (classification)\n",
      "Accuracy = 99.21752738654148%\n",
      "For penalty parameter C = 0.1:\n",
      "Accuracy = 99.2175% (1268/1278) (classification)\n",
      "Accuracy = 99.21752738654148%\n",
      "For penalty parameter C = 1:\n",
      "Accuracy = 99.2175% (1268/1278) (classification)\n",
      "Accuracy = 99.21752738654148%\n"
     ]
    }
   ],
   "source": [
    "print(\"Use raw face images (vectorized):\")\n",
    "svm(X_train, y_train, True)"
   ],
   "metadata": {
    "collapsed": false,
    "ExecuteTime": {
     "end_time": "2023-11-10T09:46:12.278845Z",
     "start_time": "2023-11-10T09:45:53.072235Z"
    }
   },
   "id": "4d9e9e3eb3e5ea08"
  },
  {
   "cell_type": "code",
   "execution_count": 17,
   "outputs": [
    {
     "name": "stdout",
     "output_type": "stream",
     "text": [
      "Use face vectors after PCA pre-processing with dimensionality of 80: \n",
      "For penalty parameter C = 0.01:\n",
      "Accuracy = 99.1393% (1267/1278) (classification)\n",
      "Accuracy = 99.13928012519561%\n",
      "For penalty parameter C = 0.1:\n",
      "Accuracy = 99.1393% (1267/1278) (classification)\n",
      "Accuracy = 99.13928012519561%\n",
      "For penalty parameter C = 1:\n",
      "Accuracy = 99.1393% (1267/1278) (classification)\n",
      "Accuracy = 99.13928012519561%\n"
     ]
    }
   ],
   "source": [
    "print(\"Use face vectors after PCA pre-processing with dimensionality of 80: \")\n",
    "svm(X_pca[:, :80], y_train, False)"
   ],
   "metadata": {
    "collapsed": false,
    "ExecuteTime": {
     "end_time": "2023-11-10T09:46:13.793769Z",
     "start_time": "2023-11-10T09:46:12.279350Z"
    }
   },
   "id": "f979282c74e9ea8b"
  },
  {
   "cell_type": "code",
   "execution_count": 18,
   "outputs": [
    {
     "name": "stdout",
     "output_type": "stream",
     "text": [
      "Use face vectors after PCA pre-processing with dimensionality of 200: \n",
      "For penalty parameter C = 0.01:\n",
      "Accuracy = 99.2958% (1269/1278) (classification)\n",
      "Accuracy = 99.29577464788733%\n",
      "For penalty parameter C = 0.1:\n",
      "Accuracy = 99.2958% (1269/1278) (classification)\n",
      "Accuracy = 99.29577464788733%\n",
      "For penalty parameter C = 1:\n",
      "Accuracy = 99.2958% (1269/1278) (classification)\n",
      "Accuracy = 99.29577464788733%\n"
     ]
    }
   ],
   "source": [
    "print(\"Use face vectors after PCA pre-processing with dimensionality of 200: \")\n",
    "svm(X_pca[:, :200], y_train, False)"
   ],
   "metadata": {
    "collapsed": false,
    "ExecuteTime": {
     "end_time": "2023-11-10T09:46:17.341681Z",
     "start_time": "2023-11-10T09:46:13.867554Z"
    }
   },
   "id": "8e0ed71b66b5074d"
  },
  {
   "cell_type": "code",
   "execution_count": 18,
   "outputs": [],
   "source": [],
   "metadata": {
    "collapsed": false,
    "ExecuteTime": {
     "end_time": "2023-11-10T09:46:17.344865Z",
     "start_time": "2023-11-10T09:46:17.341939Z"
    }
   },
   "id": "9f1a4c61eff5dbeb"
  }
 ],
 "metadata": {
  "kernelspec": {
   "display_name": "Python 3",
   "language": "python",
   "name": "python3"
  },
  "language_info": {
   "codemirror_mode": {
    "name": "ipython",
    "version": 2
   },
   "file_extension": ".py",
   "mimetype": "text/x-python",
   "name": "python",
   "nbconvert_exporter": "python",
   "pygments_lexer": "ipython2",
   "version": "2.7.6"
  }
 },
 "nbformat": 4,
 "nbformat_minor": 5
}
