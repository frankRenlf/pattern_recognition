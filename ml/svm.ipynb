{
 "cells": [
  {
   "cell_type": "code",
   "execution_count": 2,
   "id": "initial_id",
   "metadata": {
    "collapsed": true,
    "ExecuteTime": {
     "end_time": "2023-10-15T03:11:30.213763Z",
     "start_time": "2023-10-15T03:11:27.874981Z"
    }
   },
   "outputs": [],
   "source": [
    "import numpy as np\n",
    "import cvxopt\n",
    "from sklearn import datasets\n",
    "from matplotlib import pyplot as plt"
   ]
  },
  {
   "cell_type": "code",
   "execution_count": 3,
   "outputs": [],
   "source": [
    "# 隐藏 cvxopt 输出\n",
    "cvxopt.solvers.options['show_progress'] = False\n",
    "\n",
    "\n",
    "def linear_kernel(**kwargs):\n",
    "    def f(x1, x2):\n",
    "        return np.inner(x1, x2)\n",
    "\n",
    "    return f\n",
    "\n",
    "\n",
    "def polynomial_kernel(power, coef, **kwargs):\n",
    "    def f(x1, x2):\n",
    "        return (np.inner(x1, x2) + coef) ** power\n",
    "\n",
    "    return f\n",
    "\n",
    "\n",
    "def rbf_kernel(gamma, **kwargs):\n",
    "    def f(x1, x2):\n",
    "        distance = np.linalg.norm(x1 - x2) ** 2\n",
    "        return np.exp(-gamma * distance)\n",
    "\n",
    "    return f\n",
    "\n",
    "\n",
    "class SupportVectorMachine():\n",
    "\n",
    "    def __init__(self, kernel=linear_kernel, power=4, gamma=None, coef=4):\n",
    "        self.kernel = kernel\n",
    "        self.power = power\n",
    "        self.gamma = gamma\n",
    "        self.coef = coef\n",
    "        self.lagr_multipliers = None\n",
    "        self.support_vectors = None\n",
    "        self.support_vector_labels = None\n",
    "        self.intercept = None\n",
    "\n",
    "\n",
    "    def fit(self, X, y):\n",
    "        n_samples, n_features = np.shape(X)  # gamma 默认设置为 1 / n_features if not self.gamma:\n",
    "    \n",
    "        self.gamma = 1 / n_features  # 定义核函数\n",
    "        self.kernel = self.kernel(\n",
    "            power=self.power,\n",
    "            gamma=self.gamma,\n",
    "            coef=self.coef)\n",
    "        # 计算 Gram 矩阵\n",
    "        kernel_matrix = np.zeros((n_samples, n_samples))\n",
    "        for i in range(n_samples):\n",
    "            for j in range(n_samples):\n",
    "                kernel_matrix[i, j] = self.kernel(X[i], X[j])  # 构造二次规划问题\n",
    "        # 形式为 min (1/2)x.T*P*x+q.T*x, s.t. G*x<=h, A*x=b\n",
    "        P = cvxopt.matrix(np.outer(y, y) * kernel_matrix, tc='d')\n",
    "        q = cvxopt.matrix(np.ones(n_samples) * -1)\n",
    "        A = cvxopt.matrix(y, (1, n_samples), tc='d')\n",
    "        b = cvxopt.matrix(0, tc='d')\n",
    "        G = cvxopt.matrix(np.identity(n_samples) * -1)\n",
    "        h = cvxopt.matrix(np.zeros(n_samples))\n",
    "        # 用 cvxopt 求解二次规划问题\n",
    "        minimization = cvxopt.solvers.qp(P, q, G, h, A, b)\n",
    "        lagr_mult = np.ravel(minimization['x'])\n",
    "        # 非 0 的 alpha 值\n",
    "        idx = lagr_mult > 1e-7\n",
    "        # alpha 值\n",
    "        self.lagr_multipliers = lagr_mult[idx]\n",
    "        # 支持向量\n",
    "        self.support_vectors = X[idx]\n",
    "        # 支持向量的标签\n",
    "        self.support_vector_labels = y[idx]\n",
    "        # 通过第一个支持向量计算 b\n",
    "        self.intercept = self.support_vector_labels[0]\n",
    "        for i in range(len(self.lagr_multipliers)):\n",
    "            self.intercept -= self.lagr_multipliers[i] * self.support_vector_labels[\n",
    "                i] * self.kernel(self.support_vectors[i], self.support_vectors[0])\n",
    "\n",
    "    def predict(self, X):\n",
    "        y_pred = []\n",
    "        for sample in X:\n",
    "            # 对于输入的 x, 计算 f(x)\n",
    "            prediction = 0\n",
    "            for i in range(len(self.lagr_multipliers)):\n",
    "                prediction += self.lagr_multipliers[i] * self.support_vector_labels[\n",
    "                    i] * self.kernel(self.support_vectors[i], sample)\n",
    "            prediction += self.intercept\n",
    "            y_pred.append(np.sign(prediction))\n",
    "        return np.array(y_pred)\n",
    "\n",
    "    def score(self, X, y):\n",
    "        y_pred = self.predict(X)\n",
    "        accuracy = np.sum(y == y_pred, axis=0) / len(y)\n",
    "        return accuracy"
   ],
   "metadata": {
    "collapsed": false,
    "ExecuteTime": {
     "end_time": "2023-10-15T03:12:15.705525Z",
     "start_time": "2023-10-15T03:12:15.695413Z"
    }
   },
   "id": "afd9c177f8d24541"
  },
  {
   "cell_type": "code",
   "execution_count": 4,
   "outputs": [
    {
     "data": {
      "text/plain": "<matplotlib.collections.PathCollection at 0x14b253ac0>"
     },
     "execution_count": 4,
     "metadata": {},
     "output_type": "execute_result"
    },
    {
     "data": {
      "text/plain": "<Figure size 640x480 with 1 Axes>",
      "image/png": "[encoded data removed]"
     },
     "metadata": {},
     "output_type": "display_data"
    }
   ],
   "source": [
    "# 测试用例\n",
    "X, y = datasets.make_blobs(n_samples=100, centers=2, random_state=3)\n",
    "y[y == 0] = -1\n",
    "y[y == 1] = 1\n",
    "plt.scatter(X[:, 0], X[:, 1])"
   ],
   "metadata": {
    "collapsed": false,
    "ExecuteTime": {
     "end_time": "2023-10-15T03:12:16.632060Z",
     "start_time": "2023-10-15T03:12:16.534182Z"
    }
   },
   "id": "d8da1bedf1e6d18e"
  },
  {
   "cell_type": "code",
   "execution_count": 5,
   "outputs": [
    {
     "name": "stdout",
     "output_type": "stream",
     "text": [
      "[1.]\n",
      "[-1.]\n"
     ]
    }
   ],
   "source": [
    "model = SupportVectorMachine()\n",
    "model.fit(X, y)\n",
    "print(model.predict([np.array([-0.4, -0.5])]))\n",
    "print(model.predict([np.array([2.6, 5.3])]))"
   ],
   "metadata": {
    "collapsed": false,
    "ExecuteTime": {
     "end_time": "2023-10-15T03:12:18.101716Z",
     "start_time": "2023-10-15T03:12:18.065168Z"
    }
   },
   "id": "492c25ed078d7aaa"
  },
  {
   "cell_type": "code",
   "execution_count": 6,
   "outputs": [
    {
     "name": "stdout",
     "output_type": "stream",
     "text": [
      "[1.]\n",
      "[-1.]\n"
     ]
    }
   ],
   "source": [
    "model = SupportVectorMachine()\n",
    "model.fit(X, y)\n",
    "print(model.predict([np.array([-0.4, -0.5])]))\n",
    "print(model.predict([np.array([2.6, 5.3])]))"
   ],
   "metadata": {
    "collapsed": false,
    "ExecuteTime": {
     "end_time": "2023-10-15T03:12:23.724841Z",
     "start_time": "2023-10-15T03:12:23.623834Z"
    }
   },
   "id": "e49dd604d35fe83c"
  },
  {
   "cell_type": "code",
   "execution_count": null,
   "outputs": [],
   "source": [],
   "metadata": {
    "collapsed": false
   },
   "id": "61341261223f5fa1"
  }
 ],
 "metadata": {
  "kernelspec": {
   "display_name": "Python 3",
   "language": "python",
   "name": "python3"
  },
  "language_info": {
   "codemirror_mode": {
    "name": "ipython",
    "version": 2
   },
   "file_extension": ".py",
   "mimetype": "text/x-python",
   "name": "python",
   "nbconvert_exporter": "python",
   "pygments_lexer": "ipython2",
   "version": "2.7.6"
  }
 },
 "nbformat": 4,
 "nbformat_minor": 5
}
