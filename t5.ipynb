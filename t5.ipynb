{
 "cells": [
  {
   "cell_type": "code",
   "execution_count": 4,
   "id": "initial_id",
   "metadata": {
    "collapsed": true,
    "ExecuteTime": {
     "end_time": "2023-10-03T10:39:43.782296Z",
     "start_time": "2023-10-03T10:39:43.737241Z"
    }
   },
   "outputs": [
    {
     "data": {
      "text/plain": "<Figure size 640x480 with 1 Axes>",
      "image/png": "[encoded data removed]"
     },
     "metadata": {},
     "output_type": "display_data"
    }
   ],
   "source": [
    "#######1. 2.\n",
    "\n",
    "import matplotlib.pyplot as plt\n",
    "import numpy as np\n",
    "import math\n",
    "import random\n",
    "\n",
    "N1 = 50\n",
    "N2 = 50\n",
    "K = 2\n",
    "sigma = 0.1\n",
    "\n",
    "mean = (6, 6)\n",
    "cov = [[sigma, 0], [0, sigma]]\n",
    "x1 = np.random.multivariate_normal(mean, cov, N1)  # 生成100个满足分布的数据\n",
    "c1 = ['red'] * len(x1)\n",
    "\n",
    "mean = (3, 5)\n",
    "cov = [[sigma, 0], [0, sigma]]\n",
    "x2 = np.random.multivariate_normal(mean, cov, N2)\n",
    "c2 = ['blue'] * len(x2)\n",
    "\n",
    "# mean = (8, 3)\n",
    "# cov = [[sigma, 0], [0, sigma]]\n",
    "# x3 = np.random.multivariate_normal(mean, cov, N3)\n",
    "# c3 = ['blue'] * len(x3)\n",
    "\n",
    "X = np.concatenate((x1, x2))\n",
    "color = np.concatenate((c1, c2))\n",
    "T = 0 * np.ones([len(X), K])  #200*2\n",
    "\n",
    "for n in range(0, len(X)):\n",
    "    if n < len(x1):\n",
    "        T[n][0] = 1\n",
    "    if N1 <= n < len(x1) + len(x2):\n",
    "        T[n][1] = 1\n",
    "T = T.astype(int)\n",
    "plt.scatter(X[:, 0], X[:, 1], marker='o', c=color)\n",
    "plt.show()\n",
    "##############\n"
   ]
  },
  {
   "cell_type": "code",
   "execution_count": 5,
   "outputs": [
    {
     "ename": "IndexError",
     "evalue": "index 2 is out of bounds for axis 0 with size 2",
     "output_type": "error",
     "traceback": [
      "\u001B[0;31m---------------------------------------------------------------------------\u001B[0m",
      "\u001B[0;31mIndexError\u001B[0m                                Traceback (most recent call last)",
      "Cell \u001B[0;32mIn[5], line 59\u001B[0m\n\u001B[1;32m     55\u001B[0m     plt\u001B[38;5;241m.\u001B[39mshow()\n\u001B[1;32m     58\u001B[0m x_d \u001B[38;5;241m=\u001B[39m np\u001B[38;5;241m.\u001B[39mlinspace(\u001B[38;5;241m0\u001B[39m, \u001B[38;5;241m1\u001B[39m, \u001B[38;5;241m50\u001B[39m)\n\u001B[0;32m---> 59\u001B[0m k \u001B[38;5;241m=\u001B[39m \u001B[38;5;241m-\u001B[39momega[\u001B[38;5;241m1\u001B[39m] \u001B[38;5;241m/\u001B[39m \u001B[43momega\u001B[49m\u001B[43m[\u001B[49m\u001B[38;5;241;43m2\u001B[39;49m\u001B[43m]\u001B[49m\n\u001B[1;32m     60\u001B[0m display(x_d, x_d \u001B[38;5;241m*\u001B[39m k, faitry[:, \u001B[38;5;241m1\u001B[39m], faitry[:, \u001B[38;5;241m2\u001B[39m])\n\u001B[1;32m     62\u001B[0m \u001B[38;5;28mprint\u001B[39m(omega)\n",
      "\u001B[0;31mIndexError\u001B[0m: index 2 is out of bounds for axis 0 with size 2"
     ]
    }
   ],
   "source": [
    "import matplotlib.pyplot as plt\n",
    "import numpy as np\n",
    "\n",
    "m = 2\n",
    "miu = np.arange(m)\n",
    "alpha = 100\n",
    "s =5\n",
    "n1 = 0\n",
    "N = len(X)\n",
    "omega = np.zeros((m, 1))\n",
    "while n1 < n:\n",
    "    faitry = np.zeros((N, m))\n",
    "    for u in range(N):\n",
    "        for v in range(m):\n",
    "            faitry[u][v] = np.exp((-(X[u][0] - miu[v]) ** 2 - (X[u][1] - miu[v]) ** 2) / (2 * (s ** 2)))\n",
    "    faisee = faitry.T  # n * m\n",
    "    an = np.dot(omega.T, faisee)  # 1*n\n",
    "    y = 1 / (1 + np.exp(-1 * an))  # 1*n\n",
    "    rnn = np.zeros((N, N))\n",
    "    for o in range(N):\n",
    "        for q in range(N):\n",
    "            if o == q:\n",
    "                rnn[o][q] = y[0, o] * (1 - y[0, o])  # n*m\n",
    "\n",
    "    ssninverse = np.linalg.inv(alpha * np.eye(m, m)) + np.dot(np.dot(faisee, rnn), faisee.T)\n",
    "    ssn = np.linalg.inv(ssninverse)  # m*m\n",
    "    ww = np.array(T[:, 1]).reshape(N, 1)\n",
    "    xx = y.T - ww  # n*1\n",
    "    ew_one = np.dot(np.linalg.inv(alpha * np.eye(m, m)), omega) + np.dot(faisee, xx)\n",
    "    aaa = np.dot(ssn, ew_one)\n",
    "    omega = omega - aaa  # m*1\n",
    "    n1 += 1\n",
    "\n",
    "xaxis = np.arange(0, 11)\n",
    "yaxis = np.arange(0, 11)\n",
    "p = np.zeros((11, 11))\n",
    "fai = np.zeros((1, m))\n",
    "\n",
    "for i in xaxis:\n",
    "    for j in yaxis:\n",
    "        for k in range(m):\n",
    "            fai[0, k] = np.exp((-(i - miu[k]) ** 2 - (j - miu[k]) ** 2) / (2 * (s ** 2)))\n",
    "\n",
    "\n",
    "def display(x, y_, x_ori, y_noise):\n",
    "    fig, ax = plt.subplots()\n",
    "    # line1, = ax.plot(x, y_origin, color='red', label=f'{origin_func}')\n",
    "    line1, = ax.plot(x, y_, color='red')\n",
    "    # ax.legend()\n",
    "    # # ax.set_title('Linear and Quadratic Functions')\n",
    "    # ax.set_xlabel('x')\n",
    "    # ax.set_ylabel('y')\n",
    "\n",
    "    plt.scatter(x_ori, y_noise, marker='o', c=color)\n",
    "    plt.show()\n",
    "\n",
    "\n",
    "x_d = np.linspace(0, 1, 50)\n",
    "k = -omega[0] / omega[1]\n",
    "display(x_d, x_d * k, faitry[:, 0], faitry[:, 1])\n",
    "\n",
    "print(omega)"
   ],
   "metadata": {
    "collapsed": false,
    "ExecuteTime": {
     "end_time": "2023-10-03T10:39:43.959654Z",
     "start_time": "2023-10-03T10:39:43.785649Z"
    }
   },
   "id": "eddaefd574b76228"
  },
  {
   "cell_type": "code",
   "execution_count": null,
   "outputs": [],
   "source": [
    "plt.scatter(X[:, 0], X[:, 1], marker='o', c=color)\n",
    "for i in xaxis:\n",
    "    for j in yaxis:\n",
    "        for k in range(m):\n",
    "            fai[0, k] = np.exp((-(i - miu[k]) ** 2 - (j - miu[k]) ** 2) / (2 * (s ** 2)))\n",
    "        a = np.dot(fai, omega)\n",
    "        sigma = fai.dot(np.linalg.inv(ssninverse)).dot(np.transpose(fai))\n",
    "        p[i, j] = 1 - 1 / (1 + np.exp(a / (1 + np.sqrt((np.pi / 8) * sigma))))\n",
    "plt.imshow(p, interpolation='bilinear', origin='lower', cmap=plt.cm.jet)\n",
    "plt.show()"
   ],
   "metadata": {
    "collapsed": false,
    "ExecuteTime": {
     "end_time": "2023-10-03T10:39:43.962513Z",
     "start_time": "2023-10-03T10:39:43.960618Z"
    }
   },
   "id": "587c8b811826b25a"
  },
  {
   "cell_type": "code",
   "execution_count": null,
   "outputs": [],
   "source": [],
   "metadata": {
    "collapsed": false,
    "ExecuteTime": {
     "start_time": "2023-10-03T10:39:43.961500Z"
    }
   },
   "id": "469e27d89a71df2"
  }
 ],
 "metadata": {
  "kernelspec": {
   "display_name": "Python 3",
   "language": "python",
   "name": "python3"
  },
  "language_info": {
   "codemirror_mode": {
    "name": "ipython",
    "version": 2
   },
   "file_extension": ".py",
   "mimetype": "text/x-python",
   "name": "python",
   "nbconvert_exporter": "python",
   "pygments_lexer": "ipython2",
   "version": "2.7.6"
  }
 },
 "nbformat": 4,
 "nbformat_minor": 5
}
