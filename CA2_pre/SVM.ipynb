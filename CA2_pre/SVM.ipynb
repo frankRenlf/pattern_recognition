{
 "cells": [
  {
   "cell_type": "code",
   "execution_count": 1,
   "id": "b0f959f4",
   "metadata": {
    "ExecuteTime": {
     "end_time": "2023-11-10T09:28:40.998400Z",
     "start_time": "2023-11-10T09:28:40.000611Z"
    }
   },
   "outputs": [],
   "source": [
    "import numpy as np\n",
    "import cv2\n",
    "import matplotlib.pyplot as plt\n",
    "\n",
    "from PIL import Image\n",
    "from pathlib import Path\n",
    "from numpy import linalg as LA\n",
    "from numpy.linalg import inv\n",
    "from libsvm.svm import svm_problem, svm_parameter\n",
    "from libsvm.svmutil import svm_train, svm_predict"
   ]
  },
  {
   "cell_type": "markdown",
   "id": "250b0921",
   "metadata": {},
   "source": [
    "# Data processing"
   ]
  },
  {
   "cell_type": "code",
   "execution_count": 2,
   "id": "cc2a9535",
   "metadata": {
    "ExecuteTime": {
     "end_time": "2023-11-10T09:28:43.005666Z",
     "start_time": "2023-11-10T09:28:43.002821Z"
    }
   },
   "outputs": [],
   "source": [
    "# chose 25 folders randomly\n",
    "chosen = np.random.default_rng(2022).choice(np.arange(1, 68 + 1), 25, replace=False)\n",
    "\n",
    "# Load images \n",
    "images = []\n",
    "labels = []\n",
    "\n",
    "directory = Path(\"/Python_programme/Jupyter/PIE_origin\")\n",
    "for i in chosen:\n",
    "    # split train and test\n",
    "    sub_images = []\n",
    "    sub_labels = []\n",
    "    sub_directory = directory / str(i)\n",
    "    \n",
    "    files = list(sub_directory.glob(\"*.jpg\"))\n",
    "    np.random.default_rng(2023).shuffle(files)\n",
    "    for filename in files:\n",
    "        im = Image.open(filename)\n",
    "        sub_images.append(np.array(im))\n",
    "        sub_labels.append(i)  # Use folder numbers as labels\n",
    "    images.append(sub_images)\n",
    "    labels.append(sub_labels)\n",
    "    \n",
    "# len(images)\n",
    "# len(labels)"
   ]
  },
  {
   "cell_type": "code",
   "execution_count": 3,
   "id": "150825c8",
   "metadata": {
    "ExecuteTime": {
     "end_time": "2023-11-10T09:28:43.617409Z",
     "start_time": "2023-11-10T09:28:43.479152Z"
    }
   },
   "outputs": [
    {
     "name": "stderr",
     "output_type": "stream",
     "text": [
      "[ WARN:0@3.368] global loadsave.cpp:248 findDecoder imread_('/Python_programme/Jupyter/own_photos/1.jpg'): can't open/read file: check file path/integrity\n"
     ]
    },
    {
     "ename": "error",
     "evalue": "OpenCV(4.8.0) /Users/xperience/GHA-OpenCV-Python/_work/opencv-python/opencv-python/opencv/modules/imgproc/src/resize.cpp:4062: error: (-215:Assertion failed) !ssize.empty() in function 'resize'\n",
     "output_type": "error",
     "traceback": [
      "\u001B[0;31m---------------------------------------------------------------------------\u001B[0m",
      "\u001B[0;31merror\u001B[0m                                     Traceback (most recent call last)",
      "Cell \u001B[0;32mIn[3], line 7\u001B[0m\n\u001B[1;32m      5\u001B[0m \u001B[38;5;28;01mfor\u001B[39;00m i \u001B[38;5;129;01min\u001B[39;00m \u001B[38;5;28mrange\u001B[39m(\u001B[38;5;241m1\u001B[39m, \u001B[38;5;241m11\u001B[39m):\n\u001B[1;32m      6\u001B[0m     img \u001B[38;5;241m=\u001B[39m cv2\u001B[38;5;241m.\u001B[39mimread(\u001B[38;5;124m'\u001B[39m\u001B[38;5;124m/Python_programme/Jupyter/own_photos/\u001B[39m\u001B[38;5;124m'\u001B[39m\u001B[38;5;241m+\u001B[39m \u001B[38;5;28mstr\u001B[39m(i)\u001B[38;5;241m+\u001B[39m\u001B[38;5;124m'\u001B[39m\u001B[38;5;124m.jpg\u001B[39m\u001B[38;5;124m'\u001B[39m, cv2\u001B[38;5;241m.\u001B[39mIMREAD_GRAYSCALE)  \u001B[38;5;66;03m# convert to gray image\u001B[39;00m\n\u001B[0;32m----> 7\u001B[0m     img \u001B[38;5;241m=\u001B[39m \u001B[43mcv2\u001B[49m\u001B[38;5;241;43m.\u001B[39;49m\u001B[43mresize\u001B[49m\u001B[43m(\u001B[49m\u001B[43mimg\u001B[49m\u001B[43m,\u001B[49m\u001B[43m \u001B[49m\u001B[43m(\u001B[49m\u001B[38;5;241;43m32\u001B[39;49m\u001B[43m,\u001B[49m\u001B[43m \u001B[49m\u001B[38;5;241;43m32\u001B[39;49m\u001B[43m)\u001B[49m\u001B[43m,\u001B[49m\u001B[43m \u001B[49m\u001B[43minterpolation\u001B[49m\u001B[43m \u001B[49m\u001B[38;5;241;43m=\u001B[39;49m\u001B[43m \u001B[49m\u001B[43mcv2\u001B[49m\u001B[38;5;241;43m.\u001B[39;49m\u001B[43mINTER_CUBIC\u001B[49m\u001B[43m)\u001B[49m\n\u001B[1;32m      8\u001B[0m     own_imgs\u001B[38;5;241m.\u001B[39mappend(img)   \u001B[38;5;66;03m# create imgs in desired format\u001B[39;00m\n\u001B[1;32m      9\u001B[0m     own_labels\u001B[38;5;241m.\u001B[39mappend(\u001B[38;5;241m69\u001B[39m)  \u001B[38;5;66;03m# label own photos as class 69\u001B[39;00m\n",
      "\u001B[0;31merror\u001B[0m: OpenCV(4.8.0) /Users/xperience/GHA-OpenCV-Python/_work/opencv-python/opencv-python/opencv/modules/imgproc/src/resize.cpp:4062: error: (-215:Assertion failed) !ssize.empty() in function 'resize'\n"
     ]
    }
   ],
   "source": [
    "# process own photos\n",
    "own_imgs= []\n",
    "own_labels = []\n",
    "\n",
    "for i in range(1, 11):\n",
    "    img = cv2.imread('/Python_programme/Jupyter/own_photos/'+ str(i)+'.jpg', cv2.IMREAD_GRAYSCALE)  # convert to gray image\n",
    "    img = cv2.resize(img, (32, 32), interpolation = cv2.INTER_CUBIC)\n",
    "    own_imgs.append(img)   # create imgs in desired format\n",
    "    own_labels.append(69)  # label own photos as class 69\n",
    "    \n",
    "# split training and testing data sets \n",
    "own_train_imgs = own_imgs[0:7]      # first 7 phots for training\n",
    "own_test_imgs = own_imgs[7:]        # last 3 photos for testing\n",
    "own_train_labels = own_labels[0:7]  \n",
    "own_test_labels = own_labels[7:]\n",
    "\n",
    "# visualize photos\n",
    "fig = plt.figure(figsize = (20,10))\n",
    "\n",
    "for i in range(1, 11):\n",
    "    plt.subplot(1, 10, i)\n",
    "    plt.imshow(own_imgs[i-1], cmap = 'gray' )\n",
    "    plt.title('own photo'+ str(i))\n",
    "    plt.axis('off')\n",
    "    \n",
    "plt.show()"
   ]
  },
  {
   "cell_type": "code",
   "execution_count": 4,
   "id": "e68a7187",
   "metadata": {},
   "outputs": [],
   "source": [
    "# Train-test split\n",
    "NUM_TRAIN_IMAGES_PER_SUBJECT = np.int_(np.around(0.7 * 170))\n",
    "\n",
    "images_train, images_test = np.split(np.array(images), [NUM_TRAIN_IMAGES_PER_SUBJECT], axis=1)\n",
    "labels_train, labels_test = np.split(np.array(labels), [NUM_TRAIN_IMAGES_PER_SUBJECT], axis=1)\n",
    "own_images_train, own_images_test = np.split(np.array(own_imgs), [7])\n",
    "own_labels_train, own_labels_test = np.split(np.array(own_labels), [7])\n",
    "\n",
    "import warnings\n",
    "warnings.filterwarnings('ignore', category=Warning)\n",
    "\n",
    "# Flatterning\n",
    "PIE_images_train = images_train.reshape(25*NUM_TRAIN_IMAGES_PER_SUBJECT, 1024)\n",
    "own_images_train = own_images_train.reshape(7, 1024)\n",
    "images_test = images_test.reshape(25*(170-NUM_TRAIN_IMAGES_PER_SUBJECT), 1024)\n",
    "own_images_test = own_images_test.reshape(3, 1024)\n",
    "\n",
    "labels_train = labels_train.reshape(25*NUM_TRAIN_IMAGES_PER_SUBJECT)\n",
    "labels_test = labels_test.reshape(25*(170-NUM_TRAIN_IMAGES_PER_SUBJECT))\n",
    "\n",
    "# Combine PIE images and own photos to get full train and test sets\n",
    "full_train_set = np.append(PIE_images_train,own_images_train,axis=0,)\n",
    "full_train_labels = np.append(labels_train, own_labels_train)\n",
    "\n",
    "full_test_set = np.append(images_test,own_images_test,axis=0,)\n",
    "full_test_labels = np.append(labels_test, own_labels_test)"
   ]
  },
  {
   "cell_type": "markdown",
   "id": "5ff41970",
   "metadata": {},
   "source": [
    "# SVM"
   ]
  },
  {
   "cell_type": "markdown",
   "id": "7ed603be",
   "metadata": {},
   "source": [
    "## 1. compute SVM parameters"
   ]
  },
  {
   "cell_type": "code",
   "execution_count": 6,
   "id": "dea85bdc",
   "metadata": {},
   "outputs": [],
   "source": [
    "X_train = full_train_set\n",
    "y_train = full_train_labels\n",
    "\n",
    "mean_X = np.mean(X_train, axis=0)\n",
    "centered_X = X_train - mean_X\n",
    "\n",
    "u, s, vh = np.linalg.svd(centered_X, full_matrices=False)\n",
    "s_matrix = np.diag(s)\n",
    "\n",
    "# max components: 200\n",
    "X_pca = u[:, :200] @ s_matrix[:200, :200]\n",
    "total_mean_X_test = np.mean(full_test_set, axis=0)\n",
    "total_centered_X_test = full_test_set - total_mean_X_test\n",
    "# projection for test set\n",
    "full_X_pca_test = total_centered_X_test @ vh.T[:, :200]"
   ]
  },
  {
   "cell_type": "code",
   "execution_count": null,
   "outputs": [],
   "source": [
    "y = Y_train\n",
    "x = X_train\n",
    "prob  = svm_problem(y, x)\n",
    "param = svm_parameter('-t 0 -c 1e-1 -q')\n",
    "model = svm_train(prob, param)\n",
    "yt = true_labels\n",
    "xt = X_test\n",
    "p_label, p_acc, p_val = svm_predict(yt, xt, model)\n",
    "print(calculate_accuracy(p_label, true_labels))"
   ],
   "metadata": {
    "collapsed": false
   },
   "id": "cafe00f0ca58ade4"
  },
  {
   "cell_type": "code",
   "execution_count": 7,
   "id": "1c240773",
   "metadata": {},
   "outputs": [],
   "source": [
    "def svmC(c, prob, raw):\n",
    "    print(\"For penalty parameter C = \" + str(c) + \":\")\n",
    "    param = svm_parameter(\"-t 0 -c \" + str(c))\n",
    "    m = svm_train(prob, param)\n",
    "    if raw:\n",
    "        p_label, p_acc, p_val = svm_predict(full_test_labels, full_test_set, m)\n",
    "    else:\n",
    "        p_label, p_acc, p_val = svm_predict(full_test_labels, full_X_pca_test, m)\n",
    "        \n",
    "def svm(X, y, raw):\n",
    "    prob = svm_problem(y, X)\n",
    "    # Vary C\n",
    "    svmC(1e-2, prob, raw)\n",
    "    svmC(1e-1, prob, raw)\n",
    "    svmC(1, prob, raw)"
   ]
  },
  {
   "cell_type": "markdown",
   "id": "08f0e6c6",
   "metadata": {},
   "source": [
    "## 2. classification accuracy on raw images for different C"
   ]
  },
  {
   "cell_type": "code",
   "execution_count": 8,
   "id": "528dd015",
   "metadata": {},
   "outputs": [
    {
     "name": "stdout",
     "output_type": "stream",
     "text": [
      "Use raw face images (vectorized):\n",
      "For penalty parameter C = 0.01:\n",
      "Accuracy = 98.2003% (1255/1278) (classification)\n",
      "For penalty parameter C = 0.1:\n",
      "Accuracy = 98.2003% (1255/1278) (classification)\n",
      "For penalty parameter C = 1:\n",
      "Accuracy = 98.2003% (1255/1278) (classification)\n"
     ]
    }
   ],
   "source": [
    "print(\"Use raw face images (vectorized):\")\n",
    "svm(X_train, y_train, True)"
   ]
  },
  {
   "cell_type": "markdown",
   "id": "9bf63ea1",
   "metadata": {},
   "source": [
    "## 3. classification accuracy on face vectors after PCA pre-processing with dimensionality of 80 for different C"
   ]
  },
  {
   "cell_type": "code",
   "execution_count": 9,
   "id": "8c52296f",
   "metadata": {},
   "outputs": [
    {
     "name": "stdout",
     "output_type": "stream",
     "text": [
      "Use face vectors after PCA pre-processing with dimensionality of 80: \n",
      "For penalty parameter C = 0.01:\n",
      "Accuracy = 97.5743% (1247/1278) (classification)\n",
      "For penalty parameter C = 0.1:\n",
      "Accuracy = 97.5743% (1247/1278) (classification)\n",
      "For penalty parameter C = 1:\n",
      "Accuracy = 97.5743% (1247/1278) (classification)\n"
     ]
    }
   ],
   "source": [
    "print(\"Use face vectors after PCA pre-processing with dimensionality of 80: \")\n",
    "svm(X_pca[:, :80], y_train, False)"
   ]
  },
  {
   "cell_type": "markdown",
   "id": "0af5ce49",
   "metadata": {},
   "source": [
    "## 4. classification accuracy on face vectors after PCA pre-processing with dimensionality of 200 for different C"
   ]
  },
  {
   "cell_type": "code",
   "execution_count": 10,
   "id": "0ed1ab1f",
   "metadata": {},
   "outputs": [
    {
     "name": "stdout",
     "output_type": "stream",
     "text": [
      "Use face vectors after PCA pre-processing with dimensionality of 200: \n",
      "For penalty parameter C = 0.01:\n",
      "Accuracy = 97.9656% (1252/1278) (classification)\n",
      "For penalty parameter C = 0.1:\n",
      "Accuracy = 97.9656% (1252/1278) (classification)\n",
      "For penalty parameter C = 1:\n",
      "Accuracy = 97.9656% (1252/1278) (classification)\n"
     ]
    }
   ],
   "source": [
    "print(\"Use face vectors after PCA pre-processing with dimensionality of 200: \")\n",
    "svm(X_pca[:, :200], y_train, False)"
   ]
  }
 ],
 "metadata": {
  "kernelspec": {
   "name": "python3",
   "language": "python",
   "display_name": "Python 3 (ipykernel)"
  },
  "language_info": {
   "codemirror_mode": {
    "name": "ipython",
    "version": 3
   },
   "file_extension": ".py",
   "mimetype": "text/x-python",
   "name": "python",
   "nbconvert_exporter": "python",
   "pygments_lexer": "ipython3",
   "version": "3.9.13"
  }
 },
 "nbformat": 4,
 "nbformat_minor": 5
}
